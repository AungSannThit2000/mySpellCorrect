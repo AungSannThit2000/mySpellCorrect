{
  "nbformat": 4,
  "nbformat_minor": 0,
  "metadata": {
    "colab": {
      "provenance": [],
      "toc_visible": true
    },
    "kernelspec": {
      "name": "python3",
      "display_name": "Python 3"
    },
    "language_info": {
      "name": "python"
    }
  },
  "cells": [
    {
      "cell_type": "markdown",
      "source": [
        "# [Report] Word-level Spelling Correction for Burmese Language using Statistical Approaches\n",
        "\n",
        "References:\n",
        "- [1] Vacláv Chvátal and David Sankoff. \"Longest common subsequences of two random sequences\", 1975. Journal of Applied Probability, Python module: ngram (https://pypi.org/project/ngram/).\n",
        "\n",
        "- [2] Wolf Garbe <wolf.garbe@faroo.com> Description: https://medium.com/@wolfgarbe/1000x-faster-spelling-correction-algorithm-2012-8701fcd87a5f .URL: https://github.com/wolfgarbe/symspell .Python module: symspellpy (https://github.com/mammothb/symspellpy)\n",
        "\n",
        "- [3] Mon, Ei & Kyaw Thu, Ye & Yu, Than & Oo, Aye. (2021). SymSpell4Burmese: Symmetric Delete Spelling Correction Algorithm (SymSpell) for Burmese Spelling Checking. 1-6. 10.1109/iSAI-NLP54397.2021.9678171. \n",
        "\n",
        "- [4] Zar Zar Hlaing, Ye Kyaw Thu, Myat Myo Nwe Wai, Thepchai Supnithi, Ponrudee Netisopakul, \"Myanmar POS resource extension effects on automatic tagging methods\", In Proceedings of the 15th International Joint Symposium on Artificial Intelligence and Natural Language Processing (iSAI-NLP 2020), Nov 18 to Nov 20, 2020, Bangkok, Thailand, pp. 189-194.*\n",
        "\n",
        "- [5] myWord: Syllable, Word and Phrase Segmenter for Burmese, Ye Kyaw Thu, Sept 2021, GitHub Link: https://github.com/ye-kyaw-thu/myWord**\n",
        "\n",
        "- [6] https://bhashkarkunal.medium.com/spelling-correction-using-deep-learning-how-bi-directional-lstm-with-attention-flow-works-in-366fabcc7a2f\n",
        "\n",
        "\\* I used myPOS ver3 (without POS-tags) for building dictionaries\n",
        "\n",
        "\\** built dictionaries using myWord tool"
      ],
      "metadata": {
        "id": "HuUQzIzFjqot"
      }
    },
    {
      "cell_type": "code",
      "execution_count": 1,
      "metadata": {
        "colab": {
          "base_uri": "https://localhost:8080/"
        },
        "id": "QupTtAUb8flf",
        "outputId": "0b032595-fb7f-4c5d-b029-005f1b904b5b"
      },
      "outputs": [
        {
          "output_type": "stream",
          "name": "stdout",
          "text": [
            "Looking in indexes: https://pypi.org/simple, https://us-python.pkg.dev/colab-wheels/public/simple/\n",
            "Collecting symspellpy\n",
            "  Downloading symspellpy-6.7.7-py3-none-any.whl (2.6 MB)\n",
            "\u001b[K     |████████████████████████████████| 2.6 MB 8.7 MB/s \n",
            "\u001b[?25hCollecting ngram\n",
            "  Downloading ngram-4.0.3-py3-none-any.whl (24 kB)\n",
            "Collecting editdistpy>=0.1.3\n",
            "  Downloading editdistpy-0.1.3-cp37-cp37m-manylinux_2_5_x86_64.manylinux1_x86_64.manylinux_2_17_x86_64.manylinux2014_x86_64.whl (125 kB)\n",
            "\u001b[K     |████████████████████████████████| 125 kB 55.2 MB/s \n",
            "\u001b[?25hInstalling collected packages: editdistpy, symspellpy, ngram\n",
            "Successfully installed editdistpy-0.1.3 ngram-4.0.3 symspellpy-6.7.7\n"
          ]
        }
      ],
      "source": [
        "!pip install symspellpy ngram"
      ]
    },
    {
      "cell_type": "code",
      "source": [
        "import os\n",
        "import re\n",
        "import string\n",
        "\n",
        "from ngram import NGram\n",
        "from symspellpy.symspellpy import SymSpell\n",
        "from symspellpy.editdistance import DistanceAlgorithm"
      ],
      "metadata": {
        "id": "uu7MeGjU8hyo"
      },
      "execution_count": null,
      "outputs": []
    },
    {
      "cell_type": "code",
      "source": [
        "corpus_path = \"/content/myPOS.word\"\n",
        "bigram_path = \"/content/small_frequency_bigram_dictionary_mm\"\n",
        "dictionary_path = \"/content/small_frequency__dictionary_mm\"\n",
        "corpus = \" \".join(open(corpus_path).read().splitlines())"
      ],
      "metadata": {
        "id": "2_M5iTDtVdzB"
      },
      "execution_count": null,
      "outputs": []
    },
    {
      "cell_type": "code",
      "source": [
        "def ngram_similarity(sentences,n):\n",
        "  ngram = NGram(corpus.split(), N=n)\n",
        "  predicts = []\n",
        "  if not isinstance(sentences, list):\n",
        "            sentences = [sentences]\n",
        "            \n",
        "  for i in range(len(sentences)):\n",
        "            split = []\n",
        "\n",
        "            for x in sentences[i].split():\n",
        "                sugg = ngram.find(x) if x not in string.punctuation else None\n",
        "                split.append(sugg if sugg else x)\n",
        "\n",
        "            predicts.append(\" \".join(split))\n",
        "  return predicts"
      ],
      "metadata": {
        "id": "pt0uJOdy8wAm"
      },
      "execution_count": null,
      "outputs": []
    },
    {
      "cell_type": "code",
      "source": [
        "def mySymSpell(sentences,distance):\n",
        "  symspell = SymSpell(max_dictionary_edit_distance=distance)\n",
        "  symspell._distance_algorithm = DistanceAlgorithm.DAMERAU_OSA_FAST\n",
        "  \n",
        "  symspell.load_bigram_dictionary(bigram_path, term_index=0, count_index=2)\n",
        "  \n",
        "  symspell.load_dictionary(dictionary_path, term_index=0, count_index=1)\n",
        "  \n",
        "  predicts = []\n",
        "\n",
        "  # Word Segmentation using SymSpell\n",
        "  #sentences = symspell.word_segmentation(sentences, 0)[0]\n",
        "\n",
        "  if not isinstance(sentences, list):\n",
        "        sentences = [sentences]\n",
        "\n",
        "  for i in range(len(sentences)):\n",
        "            split = []\n",
        "\n",
        "            for x in sentences[i].split():\n",
        "                sugg = symspell.lookup(x, verbosity=0, max_edit_distance=distance,\n",
        "                                       transfer_casing=True) if x not in string.punctuation else None\n",
        "                split.append(sugg[0].term if sugg else x)\n",
        "\n",
        "            predicts.append(\" \".join(split))\n",
        "\n",
        "  return predicts"
      ],
      "metadata": {
        "id": "iExyY102YR6J"
      },
      "execution_count": null,
      "outputs": []
    },
    {
      "cell_type": "code",
      "source": [
        "#phonetic error\n",
        "sent = \"ဖောက်ပြန် ဖို့ သေချာ သလောက် ရှိ နေ တဲ့ မိန်းခလေး တွေ ရဲ့ ပုံစံ\"\n",
        "\n",
        "for i in range(1,7):\n",
        "  print(\"Edit distance {}\".format(i),mySymSpell(sent,i))"
      ],
      "metadata": {
        "colab": {
          "base_uri": "https://localhost:8080/"
        },
        "id": "wMWa3zizZsfd",
        "outputId": "c91f09be-dd9b-4a4b-c0de-bf80e0e252d7"
      },
      "execution_count": null,
      "outputs": [
        {
          "output_type": "stream",
          "name": "stdout",
          "text": [
            "Edit distance 1 ['ဖောက်ပြန် ဖို့ သေချာ သလောက် ရှိ နေ တဲ့ မိန်းကလေး တွေ ရဲ့ ပုံစံ']\n",
            "Edit distance 2 ['ဖောက်ပြန် ဖို့ သေချာ သလောက် ရှိ နေ တဲ့ မိန်းကလေး တွေ ရဲ့ ပုံစံ']\n",
            "Edit distance 3 ['ဖောက်ပြန် ဖို့ သေချာ သလောက် ရှိ နေ တဲ့ မိန်းကလေး တွေ ရဲ့ ပုံစံ']\n",
            "Edit distance 4 ['ဖောက်ပြန် ဖို့ သေချာ သလောက် ရှိ နေ တဲ့ မိန်းကလေး တွေ ရဲ့ ပုံစံ']\n",
            "Edit distance 5 ['ဖောက်ပြန် ဖို့ သေချာ သလောက် ရှိ နေ တဲ့ မိန်းကလေး တွေ ရဲ့ ပုံစံ']\n",
            "Edit distance 6 ['ဖောက်ပြန် ဖို့ သေချာ သလောက် ရှိ နေ တဲ့ မိန်းကလေး တွေ ရဲ့ ပုံစံ']\n"
          ]
        }
      ]
    },
    {
      "cell_type": "code",
      "source": [
        "#with symspell word segmentaion\n",
        "#phonetic error\n",
        "\n",
        "sent = \"ဖောက်ပြန်ဖို့သေချာသလောက်ရှိနေတဲ့မိန်းခလေးတွေရဲ့ပုံစံ\"\n",
        "\n",
        "for i in range(1,7):\n",
        "  print(\"Edit distance {}\".format(i))\n",
        "  symspell_word = SymSpell(max_dictionary_edit_distance=1)\n",
        "  symspell_word._distance_algorithm = DistanceAlgorithm.DAMERAU_OSA_FAST\n",
        "  symspell_word.load_bigram_dictionary(bigram_path, 0, 2)\n",
        "  symspell_word.load_dictionary(dictionary_path, 0, 1)\n",
        "\n",
        "  sent_seg = symspell_word.word_segmentation(sent, 0)\n",
        "  print(sent_seg)"
      ],
      "metadata": {
        "colab": {
          "base_uri": "https://localhost:8080/"
        },
        "id": "LWpYb_AkzZ0E",
        "outputId": "45e037b7-979e-4166-f1e7-81065c09c6b5"
      },
      "execution_count": null,
      "outputs": [
        {
          "output_type": "stream",
          "name": "stdout",
          "text": [
            "Edit distance 1\n",
            "Composition(segmented_string='ဖောက်ပြန် ဖို့ သေချာ သလောက် ရှိ နေ တဲ့ မိန်း ခ လေး တွေ ရဲ့ ပုံစံ', corrected_string='ဖောက်ပြန် ဖို့ သေချာ သလောက် ရှိ နေ တဲ့ မိန်း ခ လေး တွေ ရဲ့ ပုံစံ', distance_sum=12, log_prob_sum=-119.73672313520763)\n",
            "Edit distance 2\n",
            "Composition(segmented_string='ဖောက်ပြန် ဖို့ သေချာ သလောက် ရှိ နေ တဲ့ မိန်း ခ လေး တွေ ရဲ့ ပုံစံ', corrected_string='ဖောက်ပြန် ဖို့ သေချာ သလောက် ရှိ နေ တဲ့ မိန်း ခ လေး တွေ ရဲ့ ပုံစံ', distance_sum=12, log_prob_sum=-119.73672313520763)\n",
            "Edit distance 3\n",
            "Composition(segmented_string='ဖောက်ပြန် ဖို့ သေချာ သလောက် ရှိ နေ တဲ့ မိန်း ခ လေး တွေ ရဲ့ ပုံစံ', corrected_string='ဖောက်ပြန် ဖို့ သေချာ သလောက် ရှိ နေ တဲ့ မိန်း ခ လေး တွေ ရဲ့ ပုံစံ', distance_sum=12, log_prob_sum=-119.73672313520763)\n",
            "Edit distance 4\n",
            "Composition(segmented_string='ဖောက်ပြန် ဖို့ သေချာ သလောက် ရှိ နေ တဲ့ မိန်း ခ လေး တွေ ရဲ့ ပုံစံ', corrected_string='ဖောက်ပြန် ဖို့ သေချာ သလောက် ရှိ နေ တဲ့ မိန်း ခ လေး တွေ ရဲ့ ပုံစံ', distance_sum=12, log_prob_sum=-119.73672313520763)\n",
            "Edit distance 5\n",
            "Composition(segmented_string='ဖောက်ပြန် ဖို့ သေချာ သလောက် ရှိ နေ တဲ့ မိန်း ခ လေး တွေ ရဲ့ ပုံစံ', corrected_string='ဖောက်ပြန် ဖို့ သေချာ သလောက် ရှိ နေ တဲ့ မိန်း ခ လေး တွေ ရဲ့ ပုံစံ', distance_sum=12, log_prob_sum=-119.73672313520763)\n",
            "Edit distance 6\n",
            "Composition(segmented_string='ဖောက်ပြန် ဖို့ သေချာ သလောက် ရှိ နေ တဲ့ မိန်း ခ လေး တွေ ရဲ့ ပုံစံ', corrected_string='ဖောက်ပြန် ဖို့ သေချာ သလောက် ရှိ နေ တဲ့ မိန်း ခ လေး တွေ ရဲ့ ပုံစံ', distance_sum=12, log_prob_sum=-119.73672313520763)\n"
          ]
        }
      ]
    },
    {
      "cell_type": "code",
      "source": [
        "sent = \"ဖောက်ပြန် ဖို့ သေချာ သလောက် ရှိ နေ တဲ့ မိန်းခလေး တွေ ရဲ့ ပုံစံ\"\n",
        "\n",
        "for i in range(1,7):\n",
        "  print(\"{}-gram \".format(i),ngram_similarity(sent,i))"
      ],
      "metadata": {
        "colab": {
          "base_uri": "https://localhost:8080/"
        },
        "id": "RIH-eeRMaA99",
        "outputId": "605631e7-1ddc-47fc-b273-ee29c909c235"
      },
      "execution_count": null,
      "outputs": [
        {
          "output_type": "stream",
          "name": "stdout",
          "text": [
            "1-gram  ['ဖောက်ပြန် ဖို့ သေချာ သလောက် ရှိ နေ တဲ့ မိန်းကလေး တွေ ရဲ့ ပုံစံ']\n",
            "2-gram  ['ဖောက်ပြန် ဖို့ သေချာ သလောက် ရှိ နေ တဲ့ မိန်းကလေး တွေ ရဲ့ ပုံစံ']\n",
            "3-gram  ['ဖောက်ပြန် ဖို့ သေချာ သလောက် ရှိ နေ တဲ့ မိန်းကလေး တွေ ရဲ့ ပုံစံ']\n",
            "4-gram  ['ဖောက်ပြန် ဖို့ သေချာ သလောက် ရှိ နေ တဲ့ မိန်းကလေး တွေ ရဲ့ ပုံစံ']\n",
            "5-gram  ['ဖောက်ပြန် ဖို့ သေချာ သလောက် ရှိ နေ တဲ့ မိန်းကလေး တွေ ရဲ့ ပုံစံ']\n",
            "6-gram  ['ဖောက်ပြန် ဖို့ သေချာ သလောက် ရှိ နေ တဲ့ မိန်းကလေး တွေ ရဲ့ ပုံစံ']\n"
          ]
        }
      ]
    },
    {
      "cell_type": "code",
      "source": [
        "#typographic error\n",
        "sent = \"အမေ ဒေါ်အောင်ဆန်းစုကြည် တဖွဖွ ပြော ခဲ့ တဲ့ စကား အတိုင်း ပြည်သူ သာ အဓိက ဖြစ် တယ် ဆိုတာ ဦးထပ် ပန်ဆင် ကြ ရင်း သွေး မ အေး ကြ ဖို့ တိုက်တွန်း လိုက် ရ ပါတယ် ။ \"\n",
        "\n",
        "for i in range(1,7):\n",
        "  print(\"Edit distance {}\".format(i),mySymSpell(sent,i))"
      ],
      "metadata": {
        "colab": {
          "base_uri": "https://localhost:8080/"
        },
        "id": "TFVIJSDFboi2",
        "outputId": "41abaf5a-b0f5-4cce-c776-1e1c3644c805"
      },
      "execution_count": null,
      "outputs": [
        {
          "output_type": "stream",
          "name": "stdout",
          "text": [
            "Edit distance 1 ['အမေ ဒေါ်အောင်ဆန်းစုကြည် ဖွဖွ ပြော ခဲ့ တဲ့ စကား အတိုင်း ပြည်သူ သာ အဓိက ဖြစ် တယ် ဆိုဖာ ဦးထုပ် ပန်ဆင် ကြ ရင်း သွေး မ အေး ကြ ဖို့ တိုက်တွန်း လိုက် ရ ပါတယ် ။']\n",
            "Edit distance 2 ['အမေ ဒေါ်အောင်ဆန်းစုကြည် ဖွဖွ ပြော ခဲ့ တဲ့ စကား အတိုင်း ပြည်သူ သာ အဓိက ဖြစ် တယ် ဆိုဖာ ဦးထုပ် ပြင်ဆင် ကြ ရင်း သွေး မ အေး ကြ ဖို့ တိုက်တွန်း လိုက် ရ ပါတယ် ။']\n",
            "Edit distance 3 ['အမေ ဒေါ်အောင်ဆန်းစုကြည် ဖွဖွ ပြော ခဲ့ တဲ့ စကား အတိုင်း ပြည်သူ သာ အဓိက ဖြစ် တယ် ဆိုဖာ ဦးထုပ် ပြင်ဆင် ကြ ရင်း သွေး မ အေး ကြ ဖို့ တိုက်တွန်း လိုက် ရ ပါတယ် ။']\n",
            "Edit distance 4 ['အမေ ဒေါ်အောင်ဆန်းစုကြည် ဖွဖွ ပြော ခဲ့ တဲ့ စကား အတိုင်း ပြည်သူ သာ အဓိက ဖြစ် တယ် ဆိုဖာ ဦးထုပ် ပြင်ဆင် ကြ ရင်း သွေး မ အေး ကြ ဖို့ တိုက်တွန်း လိုက် ရ ပါတယ် ။']\n",
            "Edit distance 5 ['အမေ ဒေါ်အောင်ဆန်းစုကြည် ဖွဖွ ပြော ခဲ့ တဲ့ စကား အတိုင်း ပြည်သူ သာ အဓိက ဖြစ် တယ် ဆိုဖာ ဦးထုပ် ပြင်ဆင် ကြ ရင်း သွေး မ အေး ကြ ဖို့ တိုက်တွန်း လိုက် ရ ပါတယ် ။']\n",
            "Edit distance 6 ['အမေ ဒေါ်အောင်ဆန်းစုကြည် ဖွဖွ ပြော ခဲ့ တဲ့ စကား အတိုင်း ပြည်သူ သာ အဓိက ဖြစ် တယ် ဆိုဖာ ဦးထုပ် ပြင်ဆင် ကြ ရင်း သွေး မ အေး ကြ ဖို့ တိုက်တွန်း လိုက် ရ ပါတယ် ။']\n"
          ]
        }
      ]
    },
    {
      "cell_type": "code",
      "source": [
        "for i in range(1,7):\n",
        "  print(\"{}-gram \".format(i),ngram_similarity(sent,i))"
      ],
      "metadata": {
        "colab": {
          "base_uri": "https://localhost:8080/"
        },
        "id": "lhKPo2RXgpKQ",
        "outputId": "414f761c-e592-43d5-d368-0e0a710dbd3d"
      },
      "execution_count": null,
      "outputs": [
        {
          "output_type": "stream",
          "name": "stdout",
          "text": [
            "1-gram  ['အမေ ဒေါ်အောင်ဆန်းစုကြည် ဖွဖွ ပြော ခဲ့ တဲ့ စကား အတိုင်း ပြည်သူ သာ အဓိက ဖြစ် တယ် ဆိုတာ ဦးထုပ် ပြန်ဆင်း ကြ ရင်း သွေး မ အေး ကြ ဖို့ တိုက်တွန်း လိုက် ရ ပါတယ် ။']\n",
            "2-gram  ['အမေ ဒေါ်အောင်ဆန်းစုကြည် ဖွဖွ ပြော ခဲ့ တဲ့ စကား အတိုင်း ပြည်သူ သာ အဓိက ဖြစ် တယ် ဆိုတာ ဦးထုပ် ပန် ကြ ရင်း သွေး မ အေး ကြ ဖို့ တိုက်တွန်း လိုက် ရ ပါတယ် ။']\n",
            "3-gram  ['အမေ ဒေါ်အောင်ဆန်းစုကြည် ဖွဖွ ပြော ခဲ့ တဲ့ စကား အတိုင်း ပြည်သူ သာ အဓိက ဖြစ် တယ် ဆိုတာ ဦးထုပ် ပန် ကြ ရင်း သွေး မ အေး ကြ ဖို့ တိုက်တွန်း လိုက် ရ ပါတယ် ။']\n",
            "4-gram  ['အမေ ဒေါ်အောင်ဆန်းစုကြည် ဖွဖွ ပြော ခဲ့ တဲ့ စကား အတိုင်း ပြည်သူ သာ အဓိက ဖြစ် တယ် ဆိုတာ ဦးထုပ် ပန် ကြ ရင်း သွေး မ အေး ကြ ဖို့ တိုက်တွန်း လိုက် ရ ပါတယ် ။']\n",
            "5-gram  ['အမေ ဒေါ်အောင်ဆန်းစုကြည် ဖွဖွ ပြော ခဲ့ တဲ့ စကား အတိုင်း ပြည်သူ သာ အဓိက ဖြစ် တယ် ဆိုတာ ဦးထုပ် ပြင်ဆင် ကြ ရင်း သွေး မ အေး ကြ ဖို့ တိုက်တွန်း လိုက် ရ ပါတယ် ။']\n",
            "6-gram  ['အမေ ဒေါ်အောင်ဆန်းစုကြည် ဖွဖွ ပြော ခဲ့ တဲ့ စကား အတိုင်း ပြည်သူ သာ အဓိက ဖြစ် တယ် ဆိုတာ ဦးထုပ် ပြင်ဆင် ကြ ရင်း သွေး မ အေး ကြ ဖို့ တိုက်တွန်း လိုက် ရ ပါတယ် ။']\n"
          ]
        }
      ]
    },
    {
      "cell_type": "code",
      "source": [
        "#with symspell word segmentaion\n",
        "#typographic error\n",
        "\n",
        "sent = \"အမေဒေါ်အောင်ဆန်းစုကြည်တဖွဖွပြောခဲ့တဲ့စကားအတိုင်းပြည်သူသာအဓိကဖြစ်တယ်ဆိုတာဦးထပ်ပန်ဆင်ကြရင်းသွေးမအေးကြဖို့တိုက်တွန်းလိုက်ရပါတယ်။\"\n",
        "\n",
        "for i in range(1,7):\n",
        "  print(\"Edit distance {}\".format(i))\n",
        "  symspell_word = SymSpell(max_dictionary_edit_distance=1)\n",
        "  symspell_word._distance_algorithm = DistanceAlgorithm.DAMERAU_OSA_FAST\n",
        "  symspell_word.load_bigram_dictionary(bigram_path, 0, 2)\n",
        "  symspell_word.load_dictionary(dictionary_path, 0, 1)\n",
        "\n",
        "  sent_seg = symspell_word.word_segmentation(sent, 0)\n",
        "  print(sent_seg)"
      ],
      "metadata": {
        "colab": {
          "base_uri": "https://localhost:8080/"
        },
        "id": "DhiWrUzP11Ck",
        "outputId": "334cb8ba-3138-4e63-9f18-da77bc145c28"
      },
      "execution_count": null,
      "outputs": [
        {
          "output_type": "stream",
          "name": "stdout",
          "text": [
            "Edit distance 1\n",
            "Composition(segmented_string='အမေ ဒေါ်အောင်ဆန်းစုကြည် တ ဖွဖွ ပြော ခဲ့ တဲ့ စကား အတိုင်း ပြည်သူ သာ အဓိက ဖြစ် တယ် ဆို တာ ဦး ထပ် ပန် ဆင် ကြ ရင်း သွေး မအေး ကြ ဖို့ တိုက်တွန်း လိုက် ရ ပါတယ် ။', corrected_string='အမေ ဒေါ်အောင်ဆန်းစုကြည် တ ဖွဖွ ပြော ခဲ့ တဲ့ စကား အတိုင်း ပြည်သူ သာ အဓိက ဖြစ် တယ် ဆို တာ ဦး ထပ် ပန် ဆင် ကြ ရင်း သွေး မအေး ကြ ဖို့ တိုက်တွန်း လိုက် ရ ပါတယ် ။', distance_sum=30, log_prob_sum=-290.4834926650544)\n",
            "Edit distance 2\n",
            "Composition(segmented_string='အမေ ဒေါ်အောင်ဆန်းစုကြည် တ ဖွဖွ ပြော ခဲ့ တဲ့ စကား အတိုင်း ပြည်သူ သာ အဓိက ဖြစ် တယ် ဆို တာ ဦး ထပ် ပန် ဆင် ကြ ရင်း သွေး မအေး ကြ ဖို့ တိုက်တွန်း လိုက် ရ ပါတယ် ။', corrected_string='အမေ ဒေါ်အောင်ဆန်းစုကြည် တ ဖွဖွ ပြော ခဲ့ တဲ့ စကား အတိုင်း ပြည်သူ သာ အဓိက ဖြစ် တယ် ဆို တာ ဦး ထပ် ပန် ဆင် ကြ ရင်း သွေး မအေး ကြ ဖို့ တိုက်တွန်း လိုက် ရ ပါတယ် ။', distance_sum=30, log_prob_sum=-290.4834926650544)\n",
            "Edit distance 3\n",
            "Composition(segmented_string='အမေ ဒေါ်အောင်ဆန်းစုကြည် တ ဖွဖွ ပြော ခဲ့ တဲ့ စကား အတိုင်း ပြည်သူ သာ အဓိက ဖြစ် တယ် ဆို တာ ဦး ထပ် ပန် ဆင် ကြ ရင်း သွေး မအေး ကြ ဖို့ တိုက်တွန်း လိုက် ရ ပါတယ် ။', corrected_string='အမေ ဒေါ်အောင်ဆန်းစုကြည် တ ဖွဖွ ပြော ခဲ့ တဲ့ စကား အတိုင်း ပြည်သူ သာ အဓိက ဖြစ် တယ် ဆို တာ ဦး ထပ် ပန် ဆင် ကြ ရင်း သွေး မအေး ကြ ဖို့ တိုက်တွန်း လိုက် ရ ပါတယ် ။', distance_sum=30, log_prob_sum=-290.4834926650544)\n",
            "Edit distance 4\n",
            "Composition(segmented_string='အမေ ဒေါ်အောင်ဆန်းစုကြည် တ ဖွဖွ ပြော ခဲ့ တဲ့ စကား အတိုင်း ပြည်သူ သာ အဓိက ဖြစ် တယ် ဆို တာ ဦး ထပ် ပန် ဆင် ကြ ရင်း သွေး မအေး ကြ ဖို့ တိုက်တွန်း လိုက် ရ ပါတယ် ။', corrected_string='အမေ ဒေါ်အောင်ဆန်းစုကြည် တ ဖွဖွ ပြော ခဲ့ တဲ့ စကား အတိုင်း ပြည်သူ သာ အဓိက ဖြစ် တယ် ဆို တာ ဦး ထပ် ပန် ဆင် ကြ ရင်း သွေး မအေး ကြ ဖို့ တိုက်တွန်း လိုက် ရ ပါတယ် ။', distance_sum=30, log_prob_sum=-290.4834926650544)\n",
            "Edit distance 5\n",
            "Composition(segmented_string='အမေ ဒေါ်အောင်ဆန်းစုကြည် တ ဖွဖွ ပြော ခဲ့ တဲ့ စကား အတိုင်း ပြည်သူ သာ အဓိက ဖြစ် တယ် ဆို တာ ဦး ထပ် ပန် ဆင် ကြ ရင်း သွေး မအေး ကြ ဖို့ တိုက်တွန်း လိုက် ရ ပါတယ် ။', corrected_string='အမေ ဒေါ်အောင်ဆန်းစုကြည် တ ဖွဖွ ပြော ခဲ့ တဲ့ စကား အတိုင်း ပြည်သူ သာ အဓိက ဖြစ် တယ် ဆို တာ ဦး ထပ် ပန် ဆင် ကြ ရင်း သွေး မအေး ကြ ဖို့ တိုက်တွန်း လိုက် ရ ပါတယ် ။', distance_sum=30, log_prob_sum=-290.4834926650544)\n",
            "Edit distance 6\n",
            "Composition(segmented_string='အမေ ဒေါ်အောင်ဆန်းစုကြည် တ ဖွဖွ ပြော ခဲ့ တဲ့ စကား အတိုင်း ပြည်သူ သာ အဓိက ဖြစ် တယ် ဆို တာ ဦး ထပ် ပန် ဆင် ကြ ရင်း သွေး မအေး ကြ ဖို့ တိုက်တွန်း လိုက် ရ ပါတယ် ။', corrected_string='အမေ ဒေါ်အောင်ဆန်းစုကြည် တ ဖွဖွ ပြော ခဲ့ တဲ့ စကား အတိုင်း ပြည်သူ သာ အဓိက ဖြစ် တယ် ဆို တာ ဦး ထပ် ပန် ဆင် ကြ ရင်း သွေး မအေး ကြ ဖို့ တိုက်တွန်း လိုက် ရ ပါတယ် ။', distance_sum=30, log_prob_sum=-290.4834926650544)\n"
          ]
        }
      ]
    },
    {
      "cell_type": "code",
      "source": [
        "#slang error, pho+typo error, typo error\n",
        "\n",
        "sent = \"ဟု တရ် သစ္စာဖောက် ခြင်း ဆိုတာ ငါတို့ ရန်သူ တေ ဆီက ဘယ်တော့မှ လာ တာ မ ဟုတ် ဘူးးး \"\n",
        "\n",
        "for i in range(1,7):\n",
        "  print(\"Edit distance {}\".format(i),mySymSpell(sent,i))"
      ],
      "metadata": {
        "colab": {
          "base_uri": "https://localhost:8080/"
        },
        "id": "d0Jz_CqbhFJ4",
        "outputId": "0f32d786-7370-4d37-8fc2-c49e3a2db745"
      },
      "execution_count": null,
      "outputs": [
        {
          "output_type": "stream",
          "name": "stdout",
          "text": [
            "Edit distance 1 ['ဟု တရ သစ္စာဖောက် ခြင်း ဆိုဖာ ငါတို့ ရန်သူ တ ဆက ဘယ်တော့မှ လာ တာ မ ဟုတ် ဘူးးး']\n",
            "Edit distance 2 ['ဟု တရ သစ္စာဖောက် ခြင်း ဆိုဖာ တို့ ရန်သူ တ ဆက ဘယ်တော့ လာ တာ မ ဟုတ် ဘူး']\n",
            "Edit distance 3 ['ဟု တရ သစ္စာဖောက် ခြင်း ဆိုဖာ တို့ ရန်သူ တ ဆက ဘယ်တော့ လာ တာ မ ဟုတ် ဘူး']\n",
            "Edit distance 4 ['ဟု တရ သစ္စာဖောက် ခြင်း ဆိုဖာ တို့ ရန်သူ တ ဆက ဘယ်တော့ လာ တာ မ ဟုတ် ဘူး']\n",
            "Edit distance 5 ['ဟု တရ သစ္စာဖောက် ခြင်း ဆိုဖာ တို့ ရန်သူ တ ဆက ဘယ်တော့ လာ တာ မ ဟုတ် ဘူး']\n",
            "Edit distance 6 ['ဟု တရ သစ္စာဖောက် ခြင်း ဆိုဖာ တို့ ရန်သူ တ ဆက ဘယ်တော့ လာ တာ မ ဟုတ် ဘူး']\n"
          ]
        }
      ]
    },
    {
      "cell_type": "code",
      "source": [
        "for i in range(1,7):\n",
        "  print(\"{}-gram \".format(i),ngram_similarity(sent,i))"
      ],
      "metadata": {
        "colab": {
          "base_uri": "https://localhost:8080/"
        },
        "id": "yNMeA7l3h8DN",
        "outputId": "4018bfad-bbb6-4420-ab90-1f3ce8a4d475"
      },
      "execution_count": null,
      "outputs": [
        {
          "output_type": "stream",
          "name": "stdout",
          "text": [
            "1-gram  ['ဟု ရိတ် သစ္စာဖောက် ခြင်း ဆိုတာ တို့ ရန်သူ တေ ကဆီ ဘယ်တော့ လာ တာ မ ဟုတ် ဘူး']\n",
            "2-gram  ['ဟု တရက် သစ္စာဖောက် ခြင်း ဆိုတာ တို့ ရန်သူ တေ ဆီ ဘယ်တော့ လာ တာ မ ဟုတ် ဘူး']\n",
            "3-gram  ['ဟု တရက် သစ္စာဖောက် ခြင်း ဆိုတာ တို့ ရန်သူ တေ ဆီ ဘယ်တော့ လာ တာ မ ဟုတ် ဘူး']\n",
            "4-gram  ['ဟု တရက် သစ္စာဖောက် ခြင်း ဆိုတာ တို့ ရန်သူ တေ ဆီကြိတ် ဘယ်တော့ လာ တာ မ ဟုတ် ဘူး']\n",
            "5-gram  ['ဟု တရက် သစ္စာဖောက် ခြင်း ဆိုတာ တို့ ရန်သူ တေ ဆီကြိတ် ဘယ်တော့ လာ တာ မ ဟုတ် ဘူး']\n",
            "6-gram  ['ဟု တရက် သစ္စာဖောက် ခြင်း ဆိုတာ တို့ ရန်သူ တေ ဆီကြိတ် ဘယ်တော့ လာ တာ မ ဟုတ် ဘူး']\n"
          ]
        }
      ]
    },
    {
      "cell_type": "code",
      "source": [
        "#with symspell word segmentaion\n",
        "#slang error, pho+typo error, typo error\n",
        "\n",
        "sent = \"ဟုတရ်သစ္စာဖောက်ခြင်းဆိုတာငါတို့ရန်သူတေဆီကဘယ်တော့မှလာတာမဟုတ်ဘူးးး\"\n",
        "\n",
        "for i in range(1,7):\n",
        "  print(\"Edit distance {}\".format(i))\n",
        "  symspell_word = SymSpell(max_dictionary_edit_distance=1)\n",
        "  symspell_word._distance_algorithm = DistanceAlgorithm.DAMERAU_OSA_FAST\n",
        "  symspell_word.load_bigram_dictionary(bigram_path, 0, 2)\n",
        "  symspell_word.load_dictionary(dictionary_path, 0, 1)\n",
        "\n",
        "  sent_seg = symspell_word.word_segmentation(sent, 0)\n",
        "  print(sent_seg)"
      ],
      "metadata": {
        "colab": {
          "base_uri": "https://localhost:8080/"
        },
        "id": "CIVnmr-j3TrL",
        "outputId": "bcba1f57-ee24-4ca5-af51-b61d87215b8f"
      },
      "execution_count": null,
      "outputs": [
        {
          "output_type": "stream",
          "name": "stdout",
          "text": [
            "Edit distance 1\n",
            "Composition(segmented_string='ဟု တရ ် သစ္စာဖောက် ခြင်း ဆို တာ ငါ တို့ ရန်သူ တေ ဆီ က ဘယ်တော့ မှ လာ တာ မဟုတ် ဘူး းး', corrected_string='ဟု တရ ် သစ္စာဖောက် ခြင်း ဆို တာ ငါ တို့ ရန်သူ တေ ဆီ က ဘယ်တော့ မှ လာ တာ မဟုတ် ဘူး းး', distance_sum=24, log_prob_sum=-191.363340270537)\n",
            "Edit distance 2\n",
            "Composition(segmented_string='ဟု တရ ် သစ္စာဖောက် ခြင်း ဆို တာ ငါ တို့ ရန်သူ တေ ဆီ က ဘယ်တော့ မှ လာ တာ မဟုတ် ဘူး းး', corrected_string='ဟု တရ ် သစ္စာဖောက် ခြင်း ဆို တာ ငါ တို့ ရန်သူ တေ ဆီ က ဘယ်တော့ မှ လာ တာ မဟုတ် ဘူး းး', distance_sum=24, log_prob_sum=-191.363340270537)\n",
            "Edit distance 3\n",
            "Composition(segmented_string='ဟု တရ ် သစ္စာဖောက် ခြင်း ဆို တာ ငါ တို့ ရန်သူ တေ ဆီ က ဘယ်တော့ မှ လာ တာ မဟုတ် ဘူး းး', corrected_string='ဟု တရ ် သစ္စာဖောက် ခြင်း ဆို တာ ငါ တို့ ရန်သူ တေ ဆီ က ဘယ်တော့ မှ လာ တာ မဟုတ် ဘူး းး', distance_sum=24, log_prob_sum=-191.363340270537)\n",
            "Edit distance 4\n",
            "Composition(segmented_string='ဟု တရ ် သစ္စာဖောက် ခြင်း ဆို တာ ငါ တို့ ရန်သူ တေ ဆီ က ဘယ်တော့ မှ လာ တာ မဟုတ် ဘူး းး', corrected_string='ဟု တရ ် သစ္စာဖောက် ခြင်း ဆို တာ ငါ တို့ ရန်သူ တေ ဆီ က ဘယ်တော့ မှ လာ တာ မဟုတ် ဘူး းး', distance_sum=24, log_prob_sum=-191.363340270537)\n",
            "Edit distance 5\n",
            "Composition(segmented_string='ဟု တရ ် သစ္စာဖောက် ခြင်း ဆို တာ ငါ တို့ ရန်သူ တေ ဆီ က ဘယ်တော့ မှ လာ တာ မဟုတ် ဘူး းး', corrected_string='ဟု တရ ် သစ္စာဖောက် ခြင်း ဆို တာ ငါ တို့ ရန်သူ တေ ဆီ က ဘယ်တော့ မှ လာ တာ မဟုတ် ဘူး းး', distance_sum=24, log_prob_sum=-191.363340270537)\n",
            "Edit distance 6\n",
            "Composition(segmented_string='ဟု တရ ် သစ္စာဖောက် ခြင်း ဆို တာ ငါ တို့ ရန်သူ တေ ဆီ က ဘယ်တော့ မှ လာ တာ မဟုတ် ဘူး းး', corrected_string='ဟု တရ ် သစ္စာဖောက် ခြင်း ဆို တာ ငါ တို့ ရန်သူ တေ ဆီ က ဘယ်တော့ မှ လာ တာ မဟုတ် ဘူး းး', distance_sum=24, log_prob_sum=-191.363340270537)\n"
          ]
        }
      ]
    },
    {
      "cell_type": "code",
      "source": [
        "# Consonant error, sequence error\n",
        "\n",
        "sent = \"ကြက်ဉ ၁ လုံး ၁၅၀၀ ြပော ရျ် ရန်ဖြစ်\"\n",
        "\n",
        "for i in range(1,7):\n",
        "  print(\"Edit distance {}\".format(i),mySymSpell(sent,i))"
      ],
      "metadata": {
        "colab": {
          "base_uri": "https://localhost:8080/"
        },
        "id": "FiJRhf9GiG1N",
        "outputId": "d4f2e2dc-596b-472c-a746-06c25b924783"
      },
      "execution_count": null,
      "outputs": [
        {
          "output_type": "stream",
          "name": "stdout",
          "text": [
            "Edit distance 1 ['ကြက်ဥ ၁ လုံး ၁၅၀၀ ပြော ရင် ရန်ဖြစ်']\n",
            "Edit distance 2 ['ကြက်ဥ ၁ လုံး ၁၅၀၀ ပြော ရင် ရန်ဖြစ်']\n",
            "Edit distance 3 ['ကြက်ဥ ၁ လုံး ၁၅၀၀ ပြော ရင် ရန်ဖြစ်']\n",
            "Edit distance 4 ['ကြက်ဥ ၁ လုံး ၁၅၀၀ ပြော ရင် ရန်ဖြစ်']\n",
            "Edit distance 5 ['ကြက်ဥ ၁ လုံး ၁၅၀၀ ပြော ရင် ရန်ဖြစ်']\n",
            "Edit distance 6 ['ကြက်ဥ ၁ လုံး ၁၅၀၀ ပြော ရင် ရန်ဖြစ်']\n"
          ]
        }
      ]
    },
    {
      "cell_type": "code",
      "source": [
        "for i in range(1,7):\n",
        "  print(\"{}-gram \".format(i),ngram_similarity(sent,i))"
      ],
      "metadata": {
        "colab": {
          "base_uri": "https://localhost:8080/"
        },
        "id": "8U91-Iv6i2V1",
        "outputId": "6ef9d9a4-04a9-4925-d6b6-e5f1313aed00"
      },
      "execution_count": null,
      "outputs": [
        {
          "output_type": "stream",
          "name": "stdout",
          "text": [
            "1-gram  ['ကြက် ၁ လုံး ၁၅၀၀ ပြော ရချင် ရန်ဖြစ်']\n",
            "2-gram  ['ကြက် ၁ လုံး ၁၅၀၀ ပေါလော ရင် ရန်ဖြစ်']\n",
            "3-gram  ['ကြက် ၁ လုံး ၁၅၀၀ သော ရင် ရန်ဖြစ်']\n",
            "4-gram  ['ကြက် ၁ လုံး ၁၅၀၀ သော ရင် ရန်ဖြစ်']\n",
            "5-gram  ['ကြက် ၁ လုံး ၁၅၀၀ သော ရင် ရန်ဖြစ်']\n",
            "6-gram  ['ကြက် ၁ လုံး ၁၅၀၀ သော ရင် ရန်ဖြစ်']\n"
          ]
        }
      ]
    },
    {
      "cell_type": "code",
      "source": [
        "#with symspell word segmentaion\n",
        "#Consonant error, sequence error\n",
        "\n",
        "sent = \"ကြက်ဉ၁လုံး၁၅၀၀ ြပောရျ်ရန်ဖြစ်\"\n",
        "\n",
        "for i in range(1,7):\n",
        "  print(\"Edit distance {}\".format(i))\n",
        "  symspell_word = SymSpell(max_dictionary_edit_distance=1)\n",
        "  symspell_word._distance_algorithm = DistanceAlgorithm.DAMERAU_OSA_FAST\n",
        "  symspell_word.load_bigram_dictionary(bigram_path, 0, 2)\n",
        "  symspell_word.load_dictionary(dictionary_path, 0, 1)\n",
        "\n",
        "  sent_seg = symspell_word.word_segmentation(sent, 0)\n",
        "  print(sent_seg)"
      ],
      "metadata": {
        "colab": {
          "base_uri": "https://localhost:8080/"
        },
        "id": "rw5RDIRI4qRF",
        "outputId": "240d46e0-c4f1-4e11-8df5-e41b1c7a31fe"
      },
      "execution_count": null,
      "outputs": [
        {
          "output_type": "stream",
          "name": "stdout",
          "text": [
            "Edit distance 1\n",
            "Composition(segmented_string='ကြက် ဉ ၁ လုံး ၁၅၀၀ ြပောရျ် ရန်ဖြစ်', corrected_string='ကြက် ဉ ၁ လုံး ၁၅၀၀ ြပောရျ် ရန်ဖြစ်', distance_sum=12, log_prob_sum=-73.94305229935105)\n",
            "Edit distance 2\n",
            "Composition(segmented_string='ကြက် ဉ ၁ လုံး ၁၅၀၀ ြပောရျ် ရန်ဖြစ်', corrected_string='ကြက် ဉ ၁ လုံး ၁၅၀၀ ြပောရျ် ရန်ဖြစ်', distance_sum=12, log_prob_sum=-73.94305229935105)\n",
            "Edit distance 3\n",
            "Composition(segmented_string='ကြက် ဉ ၁ လုံး ၁၅၀၀ ြပောရျ် ရန်ဖြစ်', corrected_string='ကြက် ဉ ၁ လုံး ၁၅၀၀ ြပောရျ် ရန်ဖြစ်', distance_sum=12, log_prob_sum=-73.94305229935105)\n",
            "Edit distance 4\n",
            "Composition(segmented_string='ကြက် ဉ ၁ လုံး ၁၅၀၀ ြပောရျ် ရန်ဖြစ်', corrected_string='ကြက် ဉ ၁ လုံး ၁၅၀၀ ြပောရျ် ရန်ဖြစ်', distance_sum=12, log_prob_sum=-73.94305229935105)\n",
            "Edit distance 5\n",
            "Composition(segmented_string='ကြက် ဉ ၁ လုံး ၁၅၀၀ ြပောရျ် ရန်ဖြစ်', corrected_string='ကြက် ဉ ၁ လုံး ၁၅၀၀ ြပောရျ် ရန်ဖြစ်', distance_sum=12, log_prob_sum=-73.94305229935105)\n",
            "Edit distance 6\n",
            "Composition(segmented_string='ကြက် ဉ ၁ လုံး ၁၅၀၀ ြပောရျ် ရန်ဖြစ်', corrected_string='ကြက် ဉ ၁ လုံး ၁၅၀၀ ြပောရျ် ရန်ဖြစ်', distance_sum=12, log_prob_sum=-73.94305229935105)\n"
          ]
        }
      ]
    },
    {
      "cell_type": "code",
      "source": [
        "# dialect error\n",
        "sent = \"စပ်စု လတ် သာ အေ \"\n",
        "\n",
        "for i in range(1,7):\n",
        "  print(\"Edit distance {}\".format(i),mySymSpell(sent,i))"
      ],
      "metadata": {
        "colab": {
          "base_uri": "https://localhost:8080/"
        },
        "id": "OOq9NsQHjMSm",
        "outputId": "25ae009f-af64-4583-e207-2bb1cd7e9ddd"
      },
      "execution_count": null,
      "outputs": [
        {
          "output_type": "stream",
          "name": "stdout",
          "text": [
            "Edit distance 1 ['စပ်စု လတ် သာ အေ']\n",
            "Edit distance 2 ['အုပ်စု လတ် သာ အေ']\n",
            "Edit distance 3 ['အုပ်စု လတ် သာ အေ']\n",
            "Edit distance 4 ['အုပ်စု လတ် သာ အေ']\n",
            "Edit distance 5 ['အုပ်စု လတ် သာ အေ']\n",
            "Edit distance 6 ['အုပ်စု လတ် သာ အေ']\n"
          ]
        }
      ]
    },
    {
      "cell_type": "code",
      "source": [
        "for i in range(1,7):\n",
        "  print(\"{}-gram \".format(i),ngram_similarity(sent,i))"
      ],
      "metadata": {
        "colab": {
          "base_uri": "https://localhost:8080/"
        },
        "id": "oD2W26OQjjHC",
        "outputId": "333e201f-ab18-4f88-8fbe-354903c3f9ab"
      },
      "execution_count": null,
      "outputs": [
        {
          "output_type": "stream",
          "name": "stdout",
          "text": [
            "1-gram  ['စပ်စု လတ် သာ အေ']\n",
            "2-gram  ['စပ်စု လတ် သာ အေ']\n",
            "3-gram  ['စပ်စု လတ် သာ အေ']\n",
            "4-gram  ['စပ်စု လတ် သာ အေ']\n",
            "5-gram  ['စပ်စု လတ် သာ အေ']\n",
            "6-gram  ['စပ်စု လတ် သာ အေ']\n"
          ]
        }
      ]
    },
    {
      "cell_type": "code",
      "source": [
        "#with symspell word segmentaion\n",
        "# dialect error\n",
        "\n",
        "sent = \"စပ်စုလတ်သာအေ \"\n",
        "\n",
        "for i in range(1,7):\n",
        "  print(\"Edit distance {}\".format(i))\n",
        "  symspell_word = SymSpell(max_dictionary_edit_distance=1)\n",
        "  symspell_word._distance_algorithm = DistanceAlgorithm.DAMERAU_OSA_FAST\n",
        "  symspell_word.load_bigram_dictionary(bigram_path, 0, 2)\n",
        "  symspell_word.load_dictionary(dictionary_path, 0, 1)\n",
        "\n",
        "  sent_seg = symspell_word.word_segmentation(sent, 0)\n",
        "  print(sent_seg)"
      ],
      "metadata": {
        "colab": {
          "base_uri": "https://localhost:8080/"
        },
        "id": "dlHBp4Lp49ZV",
        "outputId": "c70d65dc-7e19-4926-b3a4-5dc082d800eb"
      },
      "execution_count": null,
      "outputs": [
        {
          "output_type": "stream",
          "name": "stdout",
          "text": [
            "Edit distance 1\n",
            "Composition(segmented_string='စပ် စု လတ် သာ အေ ', corrected_string='စပ် စု လတ် သာ အေ ', distance_sum=4, log_prob_sum=-62.87497840977267)\n",
            "Edit distance 2\n",
            "Composition(segmented_string='စပ် စု လတ် သာ အေ ', corrected_string='စပ် စု လတ် သာ အေ ', distance_sum=4, log_prob_sum=-62.87497840977267)\n",
            "Edit distance 3\n",
            "Composition(segmented_string='စပ် စု လတ် သာ အေ ', corrected_string='စပ် စု လတ် သာ အေ ', distance_sum=4, log_prob_sum=-62.87497840977267)\n",
            "Edit distance 4\n",
            "Composition(segmented_string='စပ် စု လတ် သာ အေ ', corrected_string='စပ် စု လတ် သာ အေ ', distance_sum=4, log_prob_sum=-62.87497840977267)\n",
            "Edit distance 5\n",
            "Composition(segmented_string='စပ် စု လတ် သာ အေ ', corrected_string='စပ် စု လတ် သာ အေ ', distance_sum=4, log_prob_sum=-62.87497840977267)\n",
            "Edit distance 6\n",
            "Composition(segmented_string='စပ် စု လတ် သာ အေ ', corrected_string='စပ် စု လတ် သာ အေ ', distance_sum=4, log_prob_sum=-62.87497840977267)\n"
          ]
        }
      ]
    },
    {
      "cell_type": "code",
      "source": [
        "# Common spelling mistakes Consonant errors\n",
        "common1 = \"ည က အိမ်မက် က ကွာ ၊ \"\n",
        "common2 = \"မက် ရင်း ကနေ ရောင်ရမ်း ပြီး ပျောက်သွား တဲ့ ပစ္စည်း ကို အပြင် မှ ာ ပါ လိုက်ရှာ နေ ရော\""
      ],
      "metadata": {
        "id": "PcHINe8vypAZ"
      },
      "execution_count": null,
      "outputs": []
    },
    {
      "cell_type": "code",
      "source": [
        "for i in range(1,7):\n",
        "  print(\"Edit distance {}\".format(i),mySymSpell(common1,i))"
      ],
      "metadata": {
        "colab": {
          "base_uri": "https://localhost:8080/"
        },
        "id": "pXHJHX7EDxYJ",
        "outputId": "4a683c99-d019-4db5-bd33-a78cab83ffd8"
      },
      "execution_count": null,
      "outputs": [
        {
          "output_type": "stream",
          "name": "stdout",
          "text": [
            "Edit distance 1 ['ည က အိမ်မက် က ကွာ ၊']\n",
            "Edit distance 2 ['ည က အိမ်မက် က ကွာ ၊']\n",
            "Edit distance 3 ['ည က အိမ်မက် က ကွာ ၊']\n",
            "Edit distance 4 ['ည က အိမ်မက် က ကွာ ၊']\n",
            "Edit distance 5 ['ည က အိမ်မက် က ကွာ ၊']\n",
            "Edit distance 6 ['ည က အိမ်မက် က ကွာ ၊']\n"
          ]
        }
      ]
    },
    {
      "cell_type": "code",
      "source": [
        "for i in range(1,7):\n",
        "  print(\"{}-gram \".format(i),ngram_similarity(common1,i))"
      ],
      "metadata": {
        "colab": {
          "base_uri": "https://localhost:8080/"
        },
        "id": "gOSfCOsFEopX",
        "outputId": "fa1e1342-3749-4af2-ac9e-e1aafd9aaad6"
      },
      "execution_count": null,
      "outputs": [
        {
          "output_type": "stream",
          "name": "stdout",
          "text": [
            "1-gram  ['ည က အိမ်မက် က ကွာ ၊']\n",
            "2-gram  ['ည က အိမ်မက် က ကွာ ၊']\n",
            "3-gram  ['ည က အိမ်မက် က ကွာ ၊']\n",
            "4-gram  ['ည က အိမ်မက် က ကွာ ၊']\n",
            "5-gram  ['ည က အိမ်မက် က ကွာ ၊']\n",
            "6-gram  ['ည က အိမ်မက် က ကွာ ၊']\n"
          ]
        }
      ]
    },
    {
      "cell_type": "code",
      "source": [
        "for i in range(1,7):\n",
        "  print(\"Edit distance {}\".format(i),mySymSpell(common2,i))"
      ],
      "metadata": {
        "colab": {
          "base_uri": "https://localhost:8080/"
        },
        "id": "dVs7OsSpEKte",
        "outputId": "bc094ec5-d1fe-4fa9-8081-4dc556d18d51"
      },
      "execution_count": null,
      "outputs": [
        {
          "output_type": "stream",
          "name": "stdout",
          "text": [
            "Edit distance 1 ['မက် ရင်း ကန ရောင်ရမ်း ပြီး ပျောက်သွား တဲ့ ပစ္စည်း ကို အပြင် မှ က ပါ လိုက်ရှာ နေ ရော']\n",
            "Edit distance 2 ['မက် ရင်း ကန ရောင်ရမ်း ပြီး ပျောက်သွား တဲ့ ပစ္စည်း ကို အပြင် မှ က ပါ လိုက်ရှာ နေ ရော']\n",
            "Edit distance 3 ['မက် ရင်း ကန ရောင်ရမ်း ပြီး ပျောက်သွား တဲ့ ပစ္စည်း ကို အပြင် မှ က ပါ လိုက်ရှာ နေ ရော']\n",
            "Edit distance 4 ['မက် ရင်း ကန ရောင်ရမ်း ပြီး ပျောက်သွား တဲ့ ပစ္စည်း ကို အပြင် မှ က ပါ လိုက်ရှာ နေ ရော']\n",
            "Edit distance 5 ['မက် ရင်း ကန ရောင်ရမ်း ပြီး ပျောက်သွား တဲ့ ပစ္စည်း ကို အပြင် မှ က ပါ လိုက်ရှာ နေ ရော']\n",
            "Edit distance 6 ['မက် ရင်း ကန ရောင်ရမ်း ပြီး ပျောက်သွား တဲ့ ပစ္စည်း ကို အပြင် မှ က ပါ လိုက်ရှာ နေ ရော']\n"
          ]
        }
      ]
    },
    {
      "cell_type": "code",
      "source": [
        "for i in range(1,7):\n",
        "  print(\"{}-gram \".format(i),ngram_similarity(common2,i))"
      ],
      "metadata": {
        "colab": {
          "base_uri": "https://localhost:8080/"
        },
        "id": "PL4XfRV-Eivu",
        "outputId": "7c4d7862-2870-4518-aac8-ff1dbfd2173b"
      },
      "execution_count": null,
      "outputs": [
        {
          "output_type": "stream",
          "name": "stdout",
          "text": [
            "1-gram  ['မက် ရင်း ကနေ ရောင်ရမ်း ပြီး ပျောက်သွား တဲ့ ပစ္စည်း ကို အပြင် မှ ပါ လိုက်ရှာ နေ ရော']\n",
            "2-gram  ['မက် ရင်း ကနေ ရောင်ရမ်း ပြီး ပျောက်သွား တဲ့ ပစ္စည်း ကို အပြင် မှ ပါ လိုက်ရှာ နေ ရော']\n",
            "3-gram  ['မက် ရင်း ကနေ ရောင်ရမ်း ပြီး ပျောက်သွား တဲ့ ပစ္စည်း ကို အပြင် မှ မျောပါ လိုက်ရှာ နေ ရော']\n",
            "4-gram  ['မက် ရင်း ကနေ ရောင်ရမ်း ပြီး ပျောက်သွား တဲ့ ပစ္စည်း ကို အပြင် မှ မျောပါ လိုက်ရှာ နေ ရော']\n",
            "5-gram  ['မက် ရင်း ကနေ ရောင်ရမ်း ပြီး ပျောက်သွား တဲ့ ပစ္စည်း ကို အပြင် မှ မျောပါ လိုက်ရှာ နေ ရော']\n",
            "6-gram  ['မက် ရင်း ကနေ ရောင်ရမ်း ပြီး ပျောက်သွား တဲ့ ပစ္စည်း ကို အပြင် မှ မျောပါ လိုက်ရှာ နေ ရော']\n"
          ]
        }
      ]
    },
    {
      "cell_type": "markdown",
      "source": [],
      "metadata": {
        "id": "fvpUJ9qKkvJd"
      }
    },
    {
      "cell_type": "markdown",
      "source": [
        "# [Report] Syllable-level Spelling Correction for Burmese Language using Statistical Approaches\n",
        "\n",
        "Author : Thura Aung\n",
        "\n",
        "References:\n",
        "- [1] Vacláv Chvátal and David Sankoff. \"Longest common subsequences of two random sequences\", 1975. Journal of Applied Probability, Python module: ngram (https://pypi.org/project/ngram/).\n",
        "\n",
        "- [2] Wolf Garbe <wolf.garbe@faroo.com> Description: https://medium.com/@wolfgarbe/1000x-faster-spelling-correction-algorithm-2012-8701fcd87a5f .URL: https://github.com/wolfgarbe/symspell .Python module: symspellpy (https://github.com/mammothb/symspellpy)\n",
        "\n",
        "- [3] Mon, Ei & Kyaw Thu, Ye & Yu, Than & Oo, Aye. (2021). SymSpell4Burmese: Symmetric Delete Spelling Correction Algorithm (SymSpell) for Burmese Spelling Checking. 1-6. 10.1109/iSAI-NLP54397.2021.9678171. \n",
        "\n",
        "- [4] Zar Zar Hlaing, Ye Kyaw Thu, Myat Myo Nwe Wai, Thepchai Supnithi, Ponrudee Netisopakul, \"Myanmar POS resource extension effects on automatic tagging methods\", In Proceedings of the 15th International Joint Symposium on Artificial Intelligence and Natural Language Processing (iSAI-NLP 2020), Nov 18 to Nov 20, 2020, Bangkok, Thailand, pp. 189-194.*\n",
        "\n",
        "- [5] myWord: Syllable, Word and Phrase Segmenter for Burmese, Ye Kyaw Thu, Sept 2021, GitHub Link: https://github.com/ye-kyaw-thu/myWord**\n",
        "\n",
        "- [6] https://bhashkarkunal.medium.com/spelling-correction-using-deep-learning-how-bi-directional-lstm-with-attention-flow-works-in-366fabcc7a2f\n",
        "\n",
        "\\* I used myPOS ver3 (without POS-tags) for building dictionaries\n",
        "\n",
        "\\** built dictionaries using myWord tool"
      ],
      "metadata": {
        "id": "sTAfzfY1BKOX"
      }
    },
    {
      "cell_type": "code",
      "execution_count": 2,
      "metadata": {
        "colab": {
          "base_uri": "https://localhost:8080/"
        },
        "outputId": "f191745f-f133-4b05-f897-fa8849033a95",
        "id": "9ltLZ7xdBKOb"
      },
      "outputs": [
        {
          "output_type": "stream",
          "name": "stdout",
          "text": [
            "Looking in indexes: https://pypi.org/simple, https://us-python.pkg.dev/colab-wheels/public/simple/\n",
            "Requirement already satisfied: symspellpy in /usr/local/lib/python3.7/dist-packages (6.7.7)\n",
            "Requirement already satisfied: ngram in /usr/local/lib/python3.7/dist-packages (4.0.3)\n",
            "Requirement already satisfied: editdistpy>=0.1.3 in /usr/local/lib/python3.7/dist-packages (from symspellpy) (0.1.3)\n"
          ]
        }
      ],
      "source": [
        "!pip install symspellpy ngram"
      ]
    },
    {
      "cell_type": "code",
      "source": [
        "import os\n",
        "import re\n",
        "import string\n",
        "\n",
        "from ngram import NGram\n",
        "from symspellpy.symspellpy import SymSpell\n",
        "from symspellpy.editdistance import DistanceAlgorithm"
      ],
      "metadata": {
        "id": "UujJG_PKBKOd"
      },
      "execution_count": 3,
      "outputs": []
    },
    {
      "cell_type": "code",
      "source": [
        "corpus_path = \"/content/myPOS.syllable\"\n",
        "bigram_path = \"/content/small_frequency_bigram_dictionary_mm.syl\"\n",
        "dictionary_path = \"/content/small_frequency_dictionary_mm.syl\"\n",
        "corpus = \" \".join(open(corpus_path).read().splitlines())"
      ],
      "metadata": {
        "id": "ks8IPf94BKOd"
      },
      "execution_count": 4,
      "outputs": []
    },
    {
      "cell_type": "code",
      "source": [
        "def ngram_similarity(sentences,n):\n",
        "  ngram = NGram(corpus.split(), N=n)\n",
        "  predicts = []\n",
        "  if not isinstance(sentences, list):\n",
        "            sentences = [sentences]\n",
        "            \n",
        "  for i in range(len(sentences)):\n",
        "            split = []\n",
        "\n",
        "            for x in sentences[i].split():\n",
        "                sugg = ngram.find(x) if x not in string.punctuation else None\n",
        "                split.append(sugg if sugg else x)\n",
        "\n",
        "            predicts.append(\" \".join(split))\n",
        "  return predicts"
      ],
      "metadata": {
        "id": "sMB1O9ECBKOe"
      },
      "execution_count": 5,
      "outputs": []
    },
    {
      "cell_type": "code",
      "source": [
        "def mySymSpell(sentences,distance):\n",
        "  symspell = SymSpell(max_dictionary_edit_distance=distance)\n",
        "  symspell._distance_algorithm = DistanceAlgorithm.DAMERAU_OSA_FAST\n",
        "  \n",
        "  symspell.load_bigram_dictionary(bigram_path, term_index=0, count_index=2)\n",
        "  \n",
        "  symspell.load_dictionary(dictionary_path, term_index=0, count_index=1)\n",
        "  \n",
        "  predicts = []\n",
        "\n",
        "  # Word Segmentation using SymSpell\n",
        "  #sentences = symspell.word_segmentation(sentences, 0)[0]\n",
        "\n",
        "  if not isinstance(sentences, list):\n",
        "        sentences = [sentences]\n",
        "\n",
        "  for i in range(len(sentences)):\n",
        "            split = []\n",
        "\n",
        "            for x in sentences[i].split():\n",
        "                sugg = symspell.lookup(x, verbosity=0, max_edit_distance=distance,\n",
        "                                       transfer_casing=True) if x not in string.punctuation else None\n",
        "                split.append(sugg[0].term if sugg else x)\n",
        "\n",
        "            predicts.append(\" \".join(split))\n",
        "\n",
        "  return predicts"
      ],
      "metadata": {
        "id": "wPqTMvsgBKOf"
      },
      "execution_count": 6,
      "outputs": []
    },
    {
      "cell_type": "code",
      "source": [
        "#phonetic error\n",
        "sent = \"ဖောက် ပြန် ဖို့ သေ ချာ သ လောက် ရှိ နေ တဲ့ မိန်း ခ လေး တွေ ရဲ့ ပုံ စံ\"\n",
        "\n",
        "for i in range(1,7):\n",
        "  print(\"Edit distance {}\".format(i),mySymSpell(sent,i))"
      ],
      "metadata": {
        "colab": {
          "base_uri": "https://localhost:8080/"
        },
        "outputId": "ac3c1a4c-f33c-4a41-b513-eb00cf9d178a",
        "id": "MLa9zHifBKOf"
      },
      "execution_count": 8,
      "outputs": [
        {
          "output_type": "stream",
          "name": "stdout",
          "text": [
            "Edit distance 1 ['ဖောက် ပြန် ဖို့ သေ ချာ သ လောက် ရှိ နေ တဲ့ မိန်း ခ လေး တွေ ရဲ့ ပုံ စံ']\n",
            "Edit distance 2 ['ဖောက် ပြန် ဖို့ သေ ချာ သ လောက် ရှိ နေ တဲ့ မိန်း ခ လေး တွေ ရဲ့ ပုံ စံ']\n",
            "Edit distance 3 ['ဖောက် ပြန် ဖို့ သေ ချာ သ လောက် ရှိ နေ တဲ့ မိန်း ခ လေး တွေ ရဲ့ ပုံ စံ']\n",
            "Edit distance 4 ['ဖောက် ပြန် ဖို့ သေ ချာ သ လောက် ရှိ နေ တဲ့ မိန်း ခ လေး တွေ ရဲ့ ပုံ စံ']\n",
            "Edit distance 5 ['ဖောက် ပြန် ဖို့ သေ ချာ သ လောက် ရှိ နေ တဲ့ မိန်း ခ လေး တွေ ရဲ့ ပုံ စံ']\n",
            "Edit distance 6 ['ဖောက် ပြန် ဖို့ သေ ချာ သ လောက် ရှိ နေ တဲ့ မိန်း ခ လေး တွေ ရဲ့ ပုံ စံ']\n"
          ]
        }
      ]
    },
    {
      "cell_type": "code",
      "source": [
        "#with symspell word segmentaion\n",
        "#phonetic error\n",
        "\n",
        "sent = \"ဖောက်ပြန်ဖို့သေချာသလောက်ရှိနေတဲ့မိန်းခလေးတွေရဲ့ပုံစံ\"\n",
        "\n",
        "for i in range(1,7):\n",
        "  print(\"Edit distance {}\".format(i))\n",
        "  symspell_word = SymSpell(max_dictionary_edit_distance=1)\n",
        "  symspell_word._distance_algorithm = DistanceAlgorithm.DAMERAU_OSA_FAST\n",
        "  symspell_word.load_bigram_dictionary(bigram_path, 0, 2)\n",
        "  symspell_word.load_dictionary(dictionary_path, 0, 1)\n",
        "\n",
        "  sent_seg = symspell_word.word_segmentation(sent, 0)\n",
        "  print(sent_seg)"
      ],
      "metadata": {
        "colab": {
          "base_uri": "https://localhost:8080/"
        },
        "outputId": "b1df2b7b-9176-4418-8260-d61fd06404ac",
        "id": "TUkU04P5BKOg"
      },
      "execution_count": 9,
      "outputs": [
        {
          "output_type": "stream",
          "name": "stdout",
          "text": [
            "Edit distance 1\n",
            "Composition(segmented_string='ဖောက် ပြန် ဖို့ သေ ချာ သ လောက် ရှိ နေ တဲ့ မိန်း ခ လေး တွေ ရဲ့ ပုံ စံ', corrected_string='ဖောက် ပြန် ဖို့ သေ ချာ သ လောက် ရှိ နေ တဲ့ မိန်း ခ လေး တွေ ရဲ့ ပုံ စံ', distance_sum=16, log_prob_sum=-151.1624795414868)\n",
            "Edit distance 2\n",
            "Composition(segmented_string='ဖောက် ပြန် ဖို့ သေ ချာ သ လောက် ရှိ နေ တဲ့ မိန်း ခ လေး တွေ ရဲ့ ပုံ စံ', corrected_string='ဖောက် ပြန် ဖို့ သေ ချာ သ လောက် ရှိ နေ တဲ့ မိန်း ခ လေး တွေ ရဲ့ ပုံ စံ', distance_sum=16, log_prob_sum=-151.1624795414868)\n",
            "Edit distance 3\n",
            "Composition(segmented_string='ဖောက် ပြန် ဖို့ သေ ချာ သ လောက် ရှိ နေ တဲ့ မိန်း ခ လေး တွေ ရဲ့ ပုံ စံ', corrected_string='ဖောက် ပြန် ဖို့ သေ ချာ သ လောက် ရှိ နေ တဲ့ မိန်း ခ လေး တွေ ရဲ့ ပုံ စံ', distance_sum=16, log_prob_sum=-151.1624795414868)\n",
            "Edit distance 4\n",
            "Composition(segmented_string='ဖောက် ပြန် ဖို့ သေ ချာ သ လောက် ရှိ နေ တဲ့ မိန်း ခ လေး တွေ ရဲ့ ပုံ စံ', corrected_string='ဖောက် ပြန် ဖို့ သေ ချာ သ လောက် ရှိ နေ တဲ့ မိန်း ခ လေး တွေ ရဲ့ ပုံ စံ', distance_sum=16, log_prob_sum=-151.1624795414868)\n",
            "Edit distance 5\n",
            "Composition(segmented_string='ဖောက် ပြန် ဖို့ သေ ချာ သ လောက် ရှိ နေ တဲ့ မိန်း ခ လေး တွေ ရဲ့ ပုံ စံ', corrected_string='ဖောက် ပြန် ဖို့ သေ ချာ သ လောက် ရှိ နေ တဲ့ မိန်း ခ လေး တွေ ရဲ့ ပုံ စံ', distance_sum=16, log_prob_sum=-151.1624795414868)\n",
            "Edit distance 6\n",
            "Composition(segmented_string='ဖောက် ပြန် ဖို့ သေ ချာ သ လောက် ရှိ နေ တဲ့ မိန်း ခ လေး တွေ ရဲ့ ပုံ စံ', corrected_string='ဖောက် ပြန် ဖို့ သေ ချာ သ လောက် ရှိ နေ တဲ့ မိန်း ခ လေး တွေ ရဲ့ ပုံ စံ', distance_sum=16, log_prob_sum=-151.1624795414868)\n"
          ]
        }
      ]
    },
    {
      "cell_type": "code",
      "source": [
        "sent = \"ဖောက် ပြန် ဖို့ သေ ချာ သ လောက် ရှိ နေ တဲ့ မိန်း ခ လေး တွေ ရဲ့ ပုံ စံ\"\n",
        "\n",
        "for i in range(1,7):\n",
        "  print(\"{}-gram \".format(i),ngram_similarity(sent,i))"
      ],
      "metadata": {
        "colab": {
          "base_uri": "https://localhost:8080/"
        },
        "outputId": "faa49694-5682-4007-8660-aed9edfb6421",
        "id": "E-Mu9IAqBKOh"
      },
      "execution_count": 11,
      "outputs": [
        {
          "output_type": "stream",
          "name": "stdout",
          "text": [
            "1-gram  ['ဖောက် ပြန် ဖို့ သေ ချာ သ လောက် ရှိ နေ တဲ့ မိန်း ခ လေး တွေ ရဲ့ ပုံ စံ']\n",
            "2-gram  ['ဖောက် ပြန် ဖို့ သေ ချာ သ လောက် ရှိ နေ တဲ့ မိန်း ခ လေး တွေ ရဲ့ ပုံ စံ']\n",
            "3-gram  ['ဖောက် ပြန် ဖို့ သေ ချာ သ လောက် ရှိ နေ တဲ့ မိန်း ခ လေး တွေ ရဲ့ ပုံ စံ']\n",
            "4-gram  ['ဖောက် ပြန် ဖို့ သေ ချာ သ လောက် ရှိ နေ တဲ့ မိန်း ခ လေး တွေ ရဲ့ ပုံ စံ']\n",
            "5-gram  ['ဖောက် ပြန် ဖို့ သေ ချာ သ လောက် ရှိ နေ တဲ့ မိန်း ခ လေး တွေ ရဲ့ ပုံ စံ']\n",
            "6-gram  ['ဖောက် ပြန် ဖို့ သေ ချာ သ လောက် ရှိ နေ တဲ့ မိန်း ခ လေး တွေ ရဲ့ ပုံ စံ']\n"
          ]
        }
      ]
    },
    {
      "cell_type": "code",
      "source": [
        "#typographic error\n",
        "sent = \"အ မေ ဒေါ် အောင် ဆန်း စု ကြည် တ ဖွ ဖွ ပြော ခဲ့ တဲ့ စ ကား အ တိုင်း ပြည် သူ သာ အ ဓိ က ဖြစ် တယ် ဆို တာ ဦး ထပ် ပန် ဆင် ကြ ရင်း သွေး မ အေး ကြ ဖို့ တိုက် တွန်း လိုက် ရ ပါ တယ် ။ \"\n",
        "\n",
        "for i in range(1,7):\n",
        "  print(\"Edit distance {}\".format(i),mySymSpell(sent,i))"
      ],
      "metadata": {
        "colab": {
          "base_uri": "https://localhost:8080/"
        },
        "outputId": "78675999-1c2b-4285-b562-b2c04f2498b0",
        "id": "LZ9AzBR5BKOi"
      },
      "execution_count": 12,
      "outputs": [
        {
          "output_type": "stream",
          "name": "stdout",
          "text": [
            "Edit distance 1 ['အ မေ ဒေါ် အောင် ဆန်း စု ကြည် တ ဖွ ဖွ ပြော ခဲ့ တဲ့ စ ကား အ တိုင်း ပြည် သူ သာ အ ဓိ က ဖြစ် တယ် ဆို တာ ဦး ထပ် ပန် ဆင် ကြ ရင်း သွေး မ အေး ကြ ဖို့ တိုက် တွန်း လိုက် ရ ပါ တယ် ။']\n",
            "Edit distance 2 ['အ မေ ဒေါ် အောင် ဆန်း စု ကြည် တ ဖွ ဖွ ပြော ခဲ့ တဲ့ စ ကား အ တိုင်း ပြည် သူ သာ အ ဓိ က ဖြစ် တယ် ဆို တာ ဦး ထပ် ပန် ဆင် ကြ ရင်း သွေး မ အေး ကြ ဖို့ တိုက် တွန်း လိုက် ရ ပါ တယ် ။']\n",
            "Edit distance 3 ['အ မေ ဒေါ် အောင် ဆန်း စု ကြည် တ ဖွ ဖွ ပြော ခဲ့ တဲ့ စ ကား အ တိုင်း ပြည် သူ သာ အ ဓိ က ဖြစ် တယ် ဆို တာ ဦး ထပ် ပန် ဆင် ကြ ရင်း သွေး မ အေး ကြ ဖို့ တိုက် တွန်း လိုက် ရ ပါ တယ် ။']\n",
            "Edit distance 4 ['အ မေ ဒေါ် အောင် ဆန်း စု ကြည် တ ဖွ ဖွ ပြော ခဲ့ တဲ့ စ ကား အ တိုင်း ပြည် သူ သာ အ ဓိ က ဖြစ် တယ် ဆို တာ ဦး ထပ် ပန် ဆင် ကြ ရင်း သွေး မ အေး ကြ ဖို့ တိုက် တွန်း လိုက် ရ ပါ တယ် ။']\n",
            "Edit distance 5 ['အ မေ ဒေါ် အောင် ဆန်း စု ကြည် တ ဖွ ဖွ ပြော ခဲ့ တဲ့ စ ကား အ တိုင်း ပြည် သူ သာ အ ဓိ က ဖြစ် တယ် ဆို တာ ဦး ထပ် ပန် ဆင် ကြ ရင်း သွေး မ အေး ကြ ဖို့ တိုက် တွန်း လိုက် ရ ပါ တယ် ။']\n",
            "Edit distance 6 ['အ မေ ဒေါ် အောင် ဆန်း စု ကြည် တ ဖွ ဖွ ပြော ခဲ့ တဲ့ စ ကား အ တိုင်း ပြည် သူ သာ အ ဓိ က ဖြစ် တယ် ဆို တာ ဦး ထပ် ပန် ဆင် ကြ ရင်း သွေး မ အေး ကြ ဖို့ တိုက် တွန်း လိုက် ရ ပါ တယ် ။']\n"
          ]
        }
      ]
    },
    {
      "cell_type": "code",
      "source": [
        "for i in range(1,7):\n",
        "  print(\"{}-gram \".format(i),ngram_similarity(sent,i))"
      ],
      "metadata": {
        "colab": {
          "base_uri": "https://localhost:8080/"
        },
        "outputId": "bf0f897f-3be3-48f6-b545-c8d1084e3b7d",
        "id": "3xl7YmqJBKOj"
      },
      "execution_count": 13,
      "outputs": [
        {
          "output_type": "stream",
          "name": "stdout",
          "text": [
            "1-gram  ['အ မေ ဒေါ် အောင် ဆန်း စု ကြည် တ ဖွ ဖွ ပြော ခဲ့ တဲ့ စ ကား အ တိုင်း ပြည် သူ သာ အ ဓိ က ဖြစ် တယ် ဆို တာ ဦး ထပ် ပန် ဆင် ကြ ရင်း သွေး မ အေး ကြ ဖို့ တိုက် တွန်း လိုက် ရ ပါ တယ် ။']\n",
            "2-gram  ['အ မေ ဒေါ် အောင် ဆန်း စု ကြည် တ ဖွ ဖွ ပြော ခဲ့ တဲ့ စ ကား အ တိုင်း ပြည် သူ သာ အ ဓိ က ဖြစ် တယ် ဆို တာ ဦး ထပ် ပန် ဆင် ကြ ရင်း သွေး မ အေး ကြ ဖို့ တိုက် တွန်း လိုက် ရ ပါ တယ် ။']\n",
            "3-gram  ['အ မေ ဒေါ် အောင် ဆန်း စု ကြည် တ ဖွ ဖွ ပြော ခဲ့ တဲ့ စ ကား အ တိုင်း ပြည် သူ သာ အ ဓိ က ဖြစ် တယ် ဆို တာ ဦး ထပ် ပန် ဆင် ကြ ရင်း သွေး မ အေး ကြ ဖို့ တိုက် တွန်း လိုက် ရ ပါ တယ် ။']\n",
            "4-gram  ['အ မေ ဒေါ် အောင် ဆန်း စု ကြည် တ ဖွ ဖွ ပြော ခဲ့ တဲ့ စ ကား အ တိုင်း ပြည် သူ သာ အ ဓိ က ဖြစ် တယ် ဆို တာ ဦး ထပ် ပန် ဆင် ကြ ရင်း သွေး မ အေး ကြ ဖို့ တိုက် တွန်း လိုက် ရ ပါ တယ် ။']\n",
            "5-gram  ['အ မေ ဒေါ် အောင် ဆန်း စု ကြည် တ ဖွ ဖွ ပြော ခဲ့ တဲ့ စ ကား အ တိုင်း ပြည် သူ သာ အ ဓိ က ဖြစ် တယ် ဆို တာ ဦး ထပ် ပန် ဆင် ကြ ရင်း သွေး မ အေး ကြ ဖို့ တိုက် တွန်း လိုက် ရ ပါ တယ် ။']\n",
            "6-gram  ['အ မေ ဒေါ် အောင် ဆန်း စု ကြည် တ ဖွ ဖွ ပြော ခဲ့ တဲ့ စ ကား အ တိုင်း ပြည် သူ သာ အ ဓိ က ဖြစ် တယ် ဆို တာ ဦး ထပ် ပန် ဆင် ကြ ရင်း သွေး မ အေး ကြ ဖို့ တိုက် တွန်း လိုက် ရ ပါ တယ် ။']\n"
          ]
        }
      ]
    },
    {
      "cell_type": "code",
      "source": [
        "#with symspell word segmentaion\n",
        "#typographic error\n",
        "\n",
        "sent = \"အမေဒေါ်အောင်ဆန်းစုကြည်တဖွဖွပြောခဲ့တဲ့စကားအတိုင်းပြည်သူသာအဓိကဖြစ်တယ်ဆိုတာဦးထပ်ပန်ဆင်ကြရင်းသွေးမအေးကြဖို့တိုက်တွန်းလိုက်ရပါတယ်။\"\n",
        "\n",
        "for i in range(1,7):\n",
        "  print(\"Edit distance {}\".format(i))\n",
        "  symspell_word = SymSpell(max_dictionary_edit_distance=1)\n",
        "  symspell_word._distance_algorithm = DistanceAlgorithm.DAMERAU_OSA_FAST\n",
        "  symspell_word.load_bigram_dictionary(bigram_path, 0, 2)\n",
        "  symspell_word.load_dictionary(dictionary_path, 0, 1)\n",
        "\n",
        "  sent_seg = symspell_word.word_segmentation(sent, 0)\n",
        "  print(sent_seg)"
      ],
      "metadata": {
        "colab": {
          "base_uri": "https://localhost:8080/"
        },
        "outputId": "05efe4ae-2770-4172-974b-dbabd9cd318e",
        "id": "tK_ZOSyzBKOk"
      },
      "execution_count": 14,
      "outputs": [
        {
          "output_type": "stream",
          "name": "stdout",
          "text": [
            "Edit distance 1\n",
            "Composition(segmented_string='အ မေ ဒေါ် အောင် ဆန်း စု ကြည် တ ဖွ ဖွ ပြော ခဲ့ တဲ့ စ ကား အ တိုင်း ပြည် သူ သာ အ ဓိ က ဖြစ် တယ် ဆို တာ ဦး ထပ် ပန် ဆင် ကြ ရင်း သွေး မ အေး ကြ ဖို့ တိုက် တွန်း လိုက် ရ ပါ တယ် ။', corrected_string='အ မေ ဒေါ် အောင် ဆန်း စု ကြည် တ ဖွ ဖွ ပြော ခဲ့ တဲ့ စ ကား အ တိုင်း ပြည် သူ သာ အ ဓိ က ဖြစ် တယ် ဆို တာ ဦး ထပ် ပန် ဆင် ကြ ရင်း သွေး မ အေး ကြ ဖို့ တိုက် တွန်း လိုက် ရ ပါ တယ် ။', distance_sum=44, log_prob_sum=-392.1211581828058)\n",
            "Edit distance 2\n",
            "Composition(segmented_string='အ မေ ဒေါ် အောင် ဆန်း စု ကြည် တ ဖွ ဖွ ပြော ခဲ့ တဲ့ စ ကား အ တိုင်း ပြည် သူ သာ အ ဓိ က ဖြစ် တယ် ဆို တာ ဦး ထပ် ပန် ဆင် ကြ ရင်း သွေး မ အေး ကြ ဖို့ တိုက် တွန်း လိုက် ရ ပါ တယ် ။', corrected_string='အ မေ ဒေါ် အောင် ဆန်း စု ကြည် တ ဖွ ဖွ ပြော ခဲ့ တဲ့ စ ကား အ တိုင်း ပြည် သူ သာ အ ဓိ က ဖြစ် တယ် ဆို တာ ဦး ထပ် ပန် ဆင် ကြ ရင်း သွေး မ အေး ကြ ဖို့ တိုက် တွန်း လိုက် ရ ပါ တယ် ။', distance_sum=44, log_prob_sum=-392.1211581828058)\n",
            "Edit distance 3\n",
            "Composition(segmented_string='အ မေ ဒေါ် အောင် ဆန်း စု ကြည် တ ဖွ ဖွ ပြော ခဲ့ တဲ့ စ ကား အ တိုင်း ပြည် သူ သာ အ ဓိ က ဖြစ် တယ် ဆို တာ ဦး ထပ် ပန် ဆင် ကြ ရင်း သွေး မ အေး ကြ ဖို့ တိုက် တွန်း လိုက် ရ ပါ တယ် ။', corrected_string='အ မေ ဒေါ် အောင် ဆန်း စု ကြည် တ ဖွ ဖွ ပြော ခဲ့ တဲ့ စ ကား အ တိုင်း ပြည် သူ သာ အ ဓိ က ဖြစ် တယ် ဆို တာ ဦး ထပ် ပန် ဆင် ကြ ရင်း သွေး မ အေး ကြ ဖို့ တိုက် တွန်း လိုက် ရ ပါ တယ် ။', distance_sum=44, log_prob_sum=-392.1211581828058)\n",
            "Edit distance 4\n",
            "Composition(segmented_string='အ မေ ဒေါ် အောင် ဆန်း စု ကြည် တ ဖွ ဖွ ပြော ခဲ့ တဲ့ စ ကား အ တိုင်း ပြည် သူ သာ အ ဓိ က ဖြစ် တယ် ဆို တာ ဦး ထပ် ပန် ဆင် ကြ ရင်း သွေး မ အေး ကြ ဖို့ တိုက် တွန်း လိုက် ရ ပါ တယ် ။', corrected_string='အ မေ ဒေါ် အောင် ဆန်း စု ကြည် တ ဖွ ဖွ ပြော ခဲ့ တဲ့ စ ကား အ တိုင်း ပြည် သူ သာ အ ဓိ က ဖြစ် တယ် ဆို တာ ဦး ထပ် ပန် ဆင် ကြ ရင်း သွေး မ အေး ကြ ဖို့ တိုက် တွန်း လိုက် ရ ပါ တယ် ။', distance_sum=44, log_prob_sum=-392.1211581828058)\n",
            "Edit distance 5\n",
            "Composition(segmented_string='အ မေ ဒေါ် အောင် ဆန်း စု ကြည် တ ဖွ ဖွ ပြော ခဲ့ တဲ့ စ ကား အ တိုင်း ပြည် သူ သာ အ ဓိ က ဖြစ် တယ် ဆို တာ ဦး ထပ် ပန် ဆင် ကြ ရင်း သွေး မ အေး ကြ ဖို့ တိုက် တွန်း လိုက် ရ ပါ တယ် ။', corrected_string='အ မေ ဒေါ် အောင် ဆန်း စု ကြည် တ ဖွ ဖွ ပြော ခဲ့ တဲ့ စ ကား အ တိုင်း ပြည် သူ သာ အ ဓိ က ဖြစ် တယ် ဆို တာ ဦး ထပ် ပန် ဆင် ကြ ရင်း သွေး မ အေး ကြ ဖို့ တိုက် တွန်း လိုက် ရ ပါ တယ် ။', distance_sum=44, log_prob_sum=-392.1211581828058)\n",
            "Edit distance 6\n",
            "Composition(segmented_string='အ မေ ဒေါ် အောင် ဆန်း စု ကြည် တ ဖွ ဖွ ပြော ခဲ့ တဲ့ စ ကား အ တိုင်း ပြည် သူ သာ အ ဓိ က ဖြစ် တယ် ဆို တာ ဦး ထပ် ပန် ဆင် ကြ ရင်း သွေး မ အေး ကြ ဖို့ တိုက် တွန်း လိုက် ရ ပါ တယ် ။', corrected_string='အ မေ ဒေါ် အောင် ဆန်း စု ကြည် တ ဖွ ဖွ ပြော ခဲ့ တဲ့ စ ကား အ တိုင်း ပြည် သူ သာ အ ဓိ က ဖြစ် တယ် ဆို တာ ဦး ထပ် ပန် ဆင် ကြ ရင်း သွေး မ အေး ကြ ဖို့ တိုက် တွန်း လိုက် ရ ပါ တယ် ။', distance_sum=44, log_prob_sum=-392.1211581828058)\n"
          ]
        }
      ]
    },
    {
      "cell_type": "code",
      "source": [
        "#slang error, pho+typo error, typo error\n",
        "\n",
        "sent = \"ဟု တရ် သစ္စာ ဖောက် ခြင်း ဆို တာ ငါ တို့ ရန် သူ တေ ဆီ က ဘယ် တော့ မှ လာ တာ မ ဟုတ် ဘူးးး \"\n",
        "\n",
        "for i in range(1,7):\n",
        "  print(\"Edit distance {}\".format(i),mySymSpell(sent,i))"
      ],
      "metadata": {
        "colab": {
          "base_uri": "https://localhost:8080/"
        },
        "outputId": "622560b1-6042-4363-edc0-34f5e9ad931e",
        "id": "gDnNvryqBKOl"
      },
      "execution_count": 15,
      "outputs": [
        {
          "output_type": "stream",
          "name": "stdout",
          "text": [
            "Edit distance 1 ['ဟု တယ် သစ္စာ ဖောက် ခြင်း ဆို တာ ငါ တို့ ရန် သူ တေ ဆီ က ဘယ် တော့ မှ လာ တာ မ ဟုတ် ဘူးးး']\n",
            "Edit distance 2 ['ဟု တယ် သစ္စာ ဖောက် ခြင်း ဆို တာ ငါ တို့ ရန် သူ တေ ဆီ က ဘယ် တော့ မှ လာ တာ မ ဟုတ် ဘူး']\n",
            "Edit distance 3 ['ဟု တယ် သစ္စာ ဖောက် ခြင်း ဆို တာ ငါ တို့ ရန် သူ တေ ဆီ က ဘယ် တော့ မှ လာ တာ မ ဟုတ် ဘူး']\n",
            "Edit distance 4 ['ဟု တယ် သစ္စာ ဖောက် ခြင်း ဆို တာ ငါ တို့ ရန် သူ တေ ဆီ က ဘယ် တော့ မှ လာ တာ မ ဟုတ် ဘူး']\n",
            "Edit distance 5 ['ဟု တယ် သစ္စာ ဖောက် ခြင်း ဆို တာ ငါ တို့ ရန် သူ တေ ဆီ က ဘယ် တော့ မှ လာ တာ မ ဟုတ် ဘူး']\n",
            "Edit distance 6 ['ဟု တယ် သစ္စာ ဖောက် ခြင်း ဆို တာ ငါ တို့ ရန် သူ တေ ဆီ က ဘယ် တော့ မှ လာ တာ မ ဟုတ် ဘူး']\n"
          ]
        }
      ]
    },
    {
      "cell_type": "code",
      "source": [
        "for i in range(1,7):\n",
        "  print(\"{}-gram \".format(i),ngram_similarity(sent,i))"
      ],
      "metadata": {
        "colab": {
          "base_uri": "https://localhost:8080/"
        },
        "outputId": "c7c331f7-81e4-432a-d99e-fd31bf3a66d7",
        "id": "4JDqXQ1tBKOl"
      },
      "execution_count": 16,
      "outputs": [
        {
          "output_type": "stream",
          "name": "stdout",
          "text": [
            "1-gram  ['ဟု ရတ် သစ္စာ ဖောက် ခြင်း ဆို တာ ငါ တို့ ရန် သူ တေ ဆီ က ဘယ် တော့ မှ လာ တာ မ ဟုတ် ဘူး']\n",
            "2-gram  ['ဟု တယ် သစ္စာ ဖောက် ခြင်း ဆို တာ ငါ တို့ ရန် သူ တေ ဆီ က ဘယ် တော့ မှ လာ တာ မ ဟုတ် ဘူး']\n",
            "3-gram  ['ဟု တယ် သစ္စာ ဖောက် ခြင်း ဆို တာ ငါ တို့ ရန် သူ တေ ဆီ က ဘယ် တော့ မှ လာ တာ မ ဟုတ် ဘူး']\n",
            "4-gram  ['ဟု တယ် သစ္စာ ဖောက် ခြင်း ဆို တာ ငါ တို့ ရန် သူ တေ ဆီ က ဘယ် တော့ မှ လာ တာ မ ဟုတ် ဘူး']\n",
            "5-gram  ['ဟု တယ် သစ္စာ ဖောက် ခြင်း ဆို တာ ငါ တို့ ရန် သူ တေ ဆီ က ဘယ် တော့ မှ လာ တာ မ ဟုတ် ဘူး']\n",
            "6-gram  ['ဟု တယ် သစ္စာ ဖောက် ခြင်း ဆို တာ ငါ တို့ ရန် သူ တေ ဆီ က ဘယ် တော့ မှ လာ တာ မ ဟုတ် ဘူး']\n"
          ]
        }
      ]
    },
    {
      "cell_type": "code",
      "source": [
        "#with symspell word segmentaion\n",
        "#slang error, pho+typo error, typo error\n",
        "\n",
        "sent = \"ဟုတရ်သစ္စာဖောက်ခြင်းဆိုတာငါတို့ရန်သူတေဆီကဘယ်တော့မှလာတာမဟုတ်ဘူးးး\"\n",
        "\n",
        "for i in range(1,7):\n",
        "  print(\"Edit distance {}\".format(i))\n",
        "  symspell_word = SymSpell(max_dictionary_edit_distance=1)\n",
        "  symspell_word._distance_algorithm = DistanceAlgorithm.DAMERAU_OSA_FAST\n",
        "  symspell_word.load_bigram_dictionary(bigram_path, 0, 2)\n",
        "  symspell_word.load_dictionary(dictionary_path, 0, 1)\n",
        "\n",
        "  sent_seg = symspell_word.word_segmentation(sent, 0)\n",
        "  print(sent_seg)"
      ],
      "metadata": {
        "colab": {
          "base_uri": "https://localhost:8080/"
        },
        "outputId": "4fdb0539-038d-462e-fa68-1b4a7ebc48b3",
        "id": "XHaD8ItABKOm"
      },
      "execution_count": 17,
      "outputs": [
        {
          "output_type": "stream",
          "name": "stdout",
          "text": [
            "Edit distance 1\n",
            "Composition(segmented_string='ဟု တရ် သစ္စာ ဖောက် ခြင်း ဆို တာ ငါ တို့ ရန် သူ တေ ဆီ က ဘယ် တော့ မှ လာ တာ မ ဟုတ် ဘူး းး', corrected_string='ဟု တရ် သစ္စာ ဖောက် ခြင်း ဆို တာ ငါ တို့ ရန် သူ တေ ဆီ က ဘယ် တော့ မှ လာ တာ မ ဟုတ် ဘူး းး', distance_sum=27, log_prob_sum=-212.2135372256042)\n",
            "Edit distance 2\n",
            "Composition(segmented_string='ဟု တရ် သစ္စာ ဖောက် ခြင်း ဆို တာ ငါ တို့ ရန် သူ တေ ဆီ က ဘယ် တော့ မှ လာ တာ မ ဟုတ် ဘူး းး', corrected_string='ဟု တရ် သစ္စာ ဖောက် ခြင်း ဆို တာ ငါ တို့ ရန် သူ တေ ဆီ က ဘယ် တော့ မှ လာ တာ မ ဟုတ် ဘူး းး', distance_sum=27, log_prob_sum=-212.2135372256042)\n",
            "Edit distance 3\n",
            "Composition(segmented_string='ဟု တရ် သစ္စာ ဖောက် ခြင်း ဆို တာ ငါ တို့ ရန် သူ တေ ဆီ က ဘယ် တော့ မှ လာ တာ မ ဟုတ် ဘူး းး', corrected_string='ဟု တရ် သစ္စာ ဖောက် ခြင်း ဆို တာ ငါ တို့ ရန် သူ တေ ဆီ က ဘယ် တော့ မှ လာ တာ မ ဟုတ် ဘူး းး', distance_sum=27, log_prob_sum=-212.2135372256042)\n",
            "Edit distance 4\n",
            "Composition(segmented_string='ဟု တရ် သစ္စာ ဖောက် ခြင်း ဆို တာ ငါ တို့ ရန် သူ တေ ဆီ က ဘယ် တော့ မှ လာ တာ မ ဟုတ် ဘူး းး', corrected_string='ဟု တရ် သစ္စာ ဖောက် ခြင်း ဆို တာ ငါ တို့ ရန် သူ တေ ဆီ က ဘယ် တော့ မှ လာ တာ မ ဟုတ် ဘူး းး', distance_sum=27, log_prob_sum=-212.2135372256042)\n",
            "Edit distance 5\n",
            "Composition(segmented_string='ဟု တရ် သစ္စာ ဖောက် ခြင်း ဆို တာ ငါ တို့ ရန် သူ တေ ဆီ က ဘယ် တော့ မှ လာ တာ မ ဟုတ် ဘူး းး', corrected_string='ဟု တရ် သစ္စာ ဖောက် ခြင်း ဆို တာ ငါ တို့ ရန် သူ တေ ဆီ က ဘယ် တော့ မှ လာ တာ မ ဟုတ် ဘူး းး', distance_sum=27, log_prob_sum=-212.2135372256042)\n",
            "Edit distance 6\n",
            "Composition(segmented_string='ဟု တရ် သစ္စာ ဖောက် ခြင်း ဆို တာ ငါ တို့ ရန် သူ တေ ဆီ က ဘယ် တော့ မှ လာ တာ မ ဟုတ် ဘူး းး', corrected_string='ဟု တရ် သစ္စာ ဖောက် ခြင်း ဆို တာ ငါ တို့ ရန် သူ တေ ဆီ က ဘယ် တော့ မှ လာ တာ မ ဟုတ် ဘူး းး', distance_sum=27, log_prob_sum=-212.2135372256042)\n"
          ]
        }
      ]
    },
    {
      "cell_type": "code",
      "source": [
        "# Consonant error, sequence error\n",
        "\n",
        "sent = \"ကြက် ဉ ၁ လုံး ၁၅၀၀  ြပော ရျ် ရန် ဖြစ်\"\n",
        "\n",
        "for i in range(1,7):\n",
        "  print(\"Edit distance {}\".format(i),mySymSpell(sent,i))"
      ],
      "metadata": {
        "colab": {
          "base_uri": "https://localhost:8080/"
        },
        "outputId": "3de06736-6d6a-49a6-86e1-ad8786f99430",
        "id": "PPJCoaEiBKOn"
      },
      "execution_count": 20,
      "outputs": [
        {
          "output_type": "stream",
          "name": "stdout",
          "text": [
            "Edit distance 1 ['ကြက် ။ ၁ လုံး ၁၅၀၀ ပြော ရင် ရန် ဖြစ်']\n",
            "Edit distance 2 ['ကြက် ။ ၁ လုံး ၁၅၀၀ ပြော ရင် ရန် ဖြစ်']\n",
            "Edit distance 3 ['ကြက် ။ ၁ လုံး ၁ ပြော ရင် ရန် ဖြစ်']\n",
            "Edit distance 4 ['ကြက် ။ ၁ လုံး ၁ ပြော ရင် ရန် ဖြစ်']\n",
            "Edit distance 5 ['ကြက် ။ ၁ လုံး ၁ ပြော ရင် ရန် ဖြစ်']\n",
            "Edit distance 6 ['ကြက် ။ ၁ လုံး ၁ ပြော ရင် ရန် ဖြစ်']\n"
          ]
        }
      ]
    },
    {
      "cell_type": "code",
      "source": [
        "for i in range(1,7):\n",
        "  print(\"{}-gram \".format(i),ngram_similarity(sent,i))"
      ],
      "metadata": {
        "colab": {
          "base_uri": "https://localhost:8080/"
        },
        "outputId": "5763ef8b-f99e-42f0-b063-256d54be254a",
        "id": "NqHXJxafBKOo"
      },
      "execution_count": 21,
      "outputs": [
        {
          "output_type": "stream",
          "name": "stdout",
          "text": [
            "1-gram  ['ကြက် ဉာ ၁ လုံး ၁ ပြော ရင် ရန် ဖြစ်']\n",
            "2-gram  ['ကြက် ဉာ ၁ လုံး ၁ ကော ရင် ရန် ဖြစ်']\n",
            "3-gram  ['ကြက် ဉာ ၁ လုံး ၁ ကော ရင် ရန် ဖြစ်']\n",
            "4-gram  ['ကြက် ဉာ ၁ လုံး ၁ ကော ရင် ရန် ဖြစ်']\n",
            "5-gram  ['ကြက် ဉာ ၁ လုံး ၁ ကော ရင် ရန် ဖြစ်']\n",
            "6-gram  ['ကြက် ဉာ ၁ လုံး ၁ ကော ရင် ရန် ဖြစ်']\n"
          ]
        }
      ]
    },
    {
      "cell_type": "code",
      "source": [
        "#with symspell word segmentaion\n",
        "#Consonant error, sequence error\n",
        "\n",
        "sent = \"ကြက်ဉ၁လုံး၁၅၀၀ ြပောရျ်ရန်ဖြစ်\"\n",
        "\n",
        "for i in range(1,7):\n",
        "  print(\"Edit distance {}\".format(i))\n",
        "  symspell_word = SymSpell(max_dictionary_edit_distance=1)\n",
        "  symspell_word._distance_algorithm = DistanceAlgorithm.DAMERAU_OSA_FAST\n",
        "  symspell_word.load_bigram_dictionary(bigram_path, 0, 2)\n",
        "  symspell_word.load_dictionary(dictionary_path, 0, 1)\n",
        "\n",
        "  sent_seg = symspell_word.word_segmentation(sent, 0)\n",
        "  print(sent_seg)"
      ],
      "metadata": {
        "colab": {
          "base_uri": "https://localhost:8080/"
        },
        "outputId": "8d91e1d0-0a59-4252-8c15-677ec42bbd19",
        "id": "M9HAQNU7BKOp"
      },
      "execution_count": 22,
      "outputs": [
        {
          "output_type": "stream",
          "name": "stdout",
          "text": [
            "Edit distance 1\n",
            "Composition(segmented_string='ကြက် ဉ၁ လုံး ၁ ၅ ၀ ၀ ြပောရျ် ရန် ဖြစ်', corrected_string='ကြက် ဉ၁ လုံး ၁ ၅ ၀ ၀ ြပောရျ် ရန် ဖြစ်', distance_sum=17, log_prob_sum=-101.53361432258968)\n",
            "Edit distance 2\n",
            "Composition(segmented_string='ကြက် ဉ၁ လုံး ၁ ၅ ၀ ၀ ြပောရျ် ရန် ဖြစ်', corrected_string='ကြက် ဉ၁ လုံး ၁ ၅ ၀ ၀ ြပောရျ် ရန် ဖြစ်', distance_sum=17, log_prob_sum=-101.53361432258968)\n",
            "Edit distance 3\n",
            "Composition(segmented_string='ကြက် ဉ၁ လုံး ၁ ၅ ၀ ၀ ြပောရျ် ရန် ဖြစ်', corrected_string='ကြက် ဉ၁ လုံး ၁ ၅ ၀ ၀ ြပောရျ် ရန် ဖြစ်', distance_sum=17, log_prob_sum=-101.53361432258968)\n",
            "Edit distance 4\n",
            "Composition(segmented_string='ကြက် ဉ၁ လုံး ၁ ၅ ၀ ၀ ြပောရျ် ရန် ဖြစ်', corrected_string='ကြက် ဉ၁ လုံး ၁ ၅ ၀ ၀ ြပောရျ် ရန် ဖြစ်', distance_sum=17, log_prob_sum=-101.53361432258968)\n",
            "Edit distance 5\n",
            "Composition(segmented_string='ကြက် ဉ၁ လုံး ၁ ၅ ၀ ၀ ြပောရျ် ရန် ဖြစ်', corrected_string='ကြက် ဉ၁ လုံး ၁ ၅ ၀ ၀ ြပောရျ် ရန် ဖြစ်', distance_sum=17, log_prob_sum=-101.53361432258968)\n",
            "Edit distance 6\n",
            "Composition(segmented_string='ကြက် ဉ၁ လုံး ၁ ၅ ၀ ၀ ြပောရျ် ရန် ဖြစ်', corrected_string='ကြက် ဉ၁ လုံး ၁ ၅ ၀ ၀ ြပောရျ် ရန် ဖြစ်', distance_sum=17, log_prob_sum=-101.53361432258968)\n"
          ]
        }
      ]
    },
    {
      "cell_type": "code",
      "source": [
        "# dialect error\n",
        "sent = \"စပ်စု လတ် သာ အေ \"\n",
        "\n",
        "for i in range(1,7):\n",
        "  print(\"Edit distance {}\".format(i),mySymSpell(sent,i))"
      ],
      "metadata": {
        "colab": {
          "base_uri": "https://localhost:8080/"
        },
        "outputId": "0a6939f3-666f-4df8-dbf0-1b09ea510884",
        "id": "fXkEvijQBKOp"
      },
      "execution_count": 23,
      "outputs": [
        {
          "output_type": "stream",
          "name": "stdout",
          "text": [
            "Edit distance 1 ['စပ်စ် လတ် သာ အေ']\n",
            "Edit distance 2 ['စပ်စ် လတ် သာ အေ']\n",
            "Edit distance 3 ['စပ်စ် လတ် သာ အေ']\n",
            "Edit distance 4 ['စပ်စ် လတ် သာ အေ']\n",
            "Edit distance 5 ['စပ်စ် လတ် သာ အေ']\n",
            "Edit distance 6 ['စပ်စ် လတ် သာ အေ']\n"
          ]
        }
      ]
    },
    {
      "cell_type": "code",
      "source": [
        "for i in range(1,7):\n",
        "  print(\"{}-gram \".format(i),ngram_similarity(sent,i))"
      ],
      "metadata": {
        "colab": {
          "base_uri": "https://localhost:8080/"
        },
        "outputId": "6de61e96-e3c5-47fb-cd0f-0eefe3da1f4e",
        "id": "EvHWGHzmBKOq"
      },
      "execution_count": 24,
      "outputs": [
        {
          "output_type": "stream",
          "name": "stdout",
          "text": [
            "1-gram  ['စုပ် လတ် သာ အေ']\n",
            "2-gram  ['စု လတ် သာ အေ']\n",
            "3-gram  ['စပ်စ် လတ် သာ အေ']\n",
            "4-gram  ['စပ်စ် လတ် သာ အေ']\n",
            "5-gram  ['စပ်စ် လတ် သာ အေ']\n",
            "6-gram  ['စပ်စ် လတ် သာ အေ']\n"
          ]
        }
      ]
    },
    {
      "cell_type": "code",
      "source": [
        "#with symspell word segmentaion\n",
        "# dialect error\n",
        "\n",
        "sent = \"စပ်စုလတ်သာအေ \"\n",
        "\n",
        "for i in range(1,7):\n",
        "  print(\"Edit distance {}\".format(i))\n",
        "  symspell_word = SymSpell(max_dictionary_edit_distance=1)\n",
        "  symspell_word._distance_algorithm = DistanceAlgorithm.DAMERAU_OSA_FAST\n",
        "  symspell_word.load_bigram_dictionary(bigram_path, 0, 2)\n",
        "  symspell_word.load_dictionary(dictionary_path, 0, 1)\n",
        "\n",
        "  sent_seg = symspell_word.word_segmentation(sent, 0)\n",
        "  print(sent_seg)"
      ],
      "metadata": {
        "colab": {
          "base_uri": "https://localhost:8080/"
        },
        "outputId": "def36c91-b4ce-41fc-eb46-a4d051438ac9",
        "id": "5sXD-yHwBKOr"
      },
      "execution_count": 25,
      "outputs": [
        {
          "output_type": "stream",
          "name": "stdout",
          "text": [
            "Edit distance 1\n",
            "Composition(segmented_string='စပ် စု လတ် သာ အေ ', corrected_string='စပ် စု လတ် သာ အေ ', distance_sum=4, log_prob_sum=-57.789514523046)\n",
            "Edit distance 2\n",
            "Composition(segmented_string='စပ် စု လတ် သာ အေ ', corrected_string='စပ် စု လတ် သာ အေ ', distance_sum=4, log_prob_sum=-57.789514523046)\n",
            "Edit distance 3\n",
            "Composition(segmented_string='စပ် စု လတ် သာ အေ ', corrected_string='စပ် စု လတ် သာ အေ ', distance_sum=4, log_prob_sum=-57.789514523046)\n",
            "Edit distance 4\n",
            "Composition(segmented_string='စပ် စု လတ် သာ အေ ', corrected_string='စပ် စု လတ် သာ အေ ', distance_sum=4, log_prob_sum=-57.789514523046)\n",
            "Edit distance 5\n",
            "Composition(segmented_string='စပ် စု လတ် သာ အေ ', corrected_string='စပ် စု လတ် သာ အေ ', distance_sum=4, log_prob_sum=-57.789514523046)\n",
            "Edit distance 6\n",
            "Composition(segmented_string='စပ် စု လတ် သာ အေ ', corrected_string='စပ် စု လတ် သာ အေ ', distance_sum=4, log_prob_sum=-57.789514523046)\n"
          ]
        }
      ]
    },
    {
      "cell_type": "code",
      "source": [
        "# Common spelling mistakes Consonant errors\n",
        "common1 = \"ည က အိမ် မက် က ကွာ ၊ \"\n",
        "common2 = \"မက် ရင်း က နေ ရောင် ရမ်း ပြီး ပျောက် သွား တဲ့ ပစ္စညး ကို အ ပြင် မှာ ပါ လိုက် ရှာ နေ ရော\""
      ],
      "metadata": {
        "id": "Jh5id4HPBKOs"
      },
      "execution_count": 43,
      "outputs": []
    },
    {
      "cell_type": "code",
      "source": [
        "for i in range(1,7):\n",
        "  print(\"Edit distance {}\".format(i),mySymSpell(common1,i))"
      ],
      "metadata": {
        "colab": {
          "base_uri": "https://localhost:8080/"
        },
        "outputId": "262f3a08-1bc1-4ede-bdfa-0ba41b717660",
        "id": "-EvPelJIBKOs"
      },
      "execution_count": 44,
      "outputs": [
        {
          "output_type": "stream",
          "name": "stdout",
          "text": [
            "Edit distance 1 ['ည က အိမ် မက် က ကွာ ၊']\n",
            "Edit distance 2 ['ည က အိမ် မက် က ကွာ ၊']\n",
            "Edit distance 3 ['ည က အိမ် မက် က ကွာ ၊']\n",
            "Edit distance 4 ['ည က အိမ် မက် က ကွာ ၊']\n",
            "Edit distance 5 ['ည က အိမ် မက် က ကွာ ၊']\n",
            "Edit distance 6 ['ည က အိမ် မက် က ကွာ ၊']\n"
          ]
        }
      ]
    },
    {
      "cell_type": "code",
      "source": [
        "for i in range(1,7):\n",
        "  print(\"{}-gram \".format(i),ngram_similarity(common1,i))"
      ],
      "metadata": {
        "colab": {
          "base_uri": "https://localhost:8080/"
        },
        "outputId": "8a7de354-fe91-4ba2-ae9a-db5e666bf930",
        "id": "28cmFUEyBKOt"
      },
      "execution_count": 45,
      "outputs": [
        {
          "output_type": "stream",
          "name": "stdout",
          "text": [
            "1-gram  ['ည က အိမ် မက် က ကွာ ၊']\n",
            "2-gram  ['ည က အိမ် မက် က ကွာ ၊']\n",
            "3-gram  ['ည က အိမ် မက် က ကွာ ၊']\n",
            "4-gram  ['ည က အိမ် မက် က ကွာ ၊']\n",
            "5-gram  ['ည က အိမ် မက် က ကွာ ၊']\n",
            "6-gram  ['ည က အိမ် မက် က ကွာ ၊']\n"
          ]
        }
      ]
    },
    {
      "cell_type": "code",
      "source": [
        "for i in range(1,7):\n",
        "  print(\"Edit distance {}\".format(i),mySymSpell(common2,i))"
      ],
      "metadata": {
        "colab": {
          "base_uri": "https://localhost:8080/"
        },
        "outputId": "6c9ad893-4a10-498c-afc3-70942d6214a4",
        "id": "BF8RsR-qBKOt"
      },
      "execution_count": 46,
      "outputs": [
        {
          "output_type": "stream",
          "name": "stdout",
          "text": [
            "Edit distance 1 ['မက် ရင်း က နေ ရောင် ရမ်း ပြီး ပျောက် သွား တဲ့ ပစ္စည်း ကို အ ပြင် မှာ ပါ လိုက် ရှာ နေ ရော']\n",
            "Edit distance 2 ['မက် ရင်း က နေ ရောင် ရမ်း ပြီး ပျောက် သွား တဲ့ ပစ္စည်း ကို အ ပြင် မှာ ပါ လိုက် ရှာ နေ ရော']\n",
            "Edit distance 3 ['မက် ရင်း က နေ ရောင် ရမ်း ပြီး ပျောက် သွား တဲ့ ပစ္စည်း ကို အ ပြင် မှာ ပါ လိုက် ရှာ နေ ရော']\n",
            "Edit distance 4 ['မက် ရင်း က နေ ရောင် ရမ်း ပြီး ပျောက် သွား တဲ့ ပစ္စည်း ကို အ ပြင် မှာ ပါ လိုက် ရှာ နေ ရော']\n",
            "Edit distance 5 ['မက် ရင်း က နေ ရောင် ရမ်း ပြီး ပျောက် သွား တဲ့ ပစ္စည်း ကို အ ပြင် မှာ ပါ လိုက် ရှာ နေ ရော']\n",
            "Edit distance 6 ['မက် ရင်း က နေ ရောင် ရမ်း ပြီး ပျောက် သွား တဲ့ ပစ္စည်း ကို အ ပြင် မှာ ပါ လိုက် ရှာ နေ ရော']\n"
          ]
        }
      ]
    },
    {
      "cell_type": "code",
      "source": [
        "for i in range(1,7):\n",
        "  print(\"{}-gram \".format(i),ngram_similarity(common2,i))"
      ],
      "metadata": {
        "colab": {
          "base_uri": "https://localhost:8080/"
        },
        "outputId": "a75e5901-fbde-4fc0-e374-d223e7b211ce",
        "id": "Wgyrc9PfBKOu"
      },
      "execution_count": 47,
      "outputs": [
        {
          "output_type": "stream",
          "name": "stdout",
          "text": [
            "1-gram  ['မက် ရင်း က နေ ရောင် ရမ်း ပြီး ပျောက် သွား တဲ့ ပစ္စည်း ကို အ ပြင် မှာ ပါ လိုက် ရှာ နေ ရော']\n",
            "2-gram  ['မက် ရင်း က နေ ရောင် ရမ်း ပြီး ပျောက် သွား တဲ့ ပစ္စည်း ကို အ ပြင် မှာ ပါ လိုက် ရှာ နေ ရော']\n",
            "3-gram  ['မက် ရင်း က နေ ရောင် ရမ်း ပြီး ပျောက် သွား တဲ့ ပစ္စည်း ကို အ ပြင် မှာ ပါ လိုက် ရှာ နေ ရော']\n",
            "4-gram  ['မက် ရင်း က နေ ရောင် ရမ်း ပြီး ပျောက် သွား တဲ့ ပစ္စည်း ကို အ ပြင် မှာ ပါ လိုက် ရှာ နေ ရော']\n",
            "5-gram  ['မက် ရင်း က နေ ရောင် ရမ်း ပြီး ပျောက် သွား တဲ့ ပစ္စည်း ကို အ ပြင် မှာ ပါ လိုက် ရှာ နေ ရော']\n",
            "6-gram  ['မက် ရင်း က နေ ရောင် ရမ်း ပြီး ပျောက် သွား တဲ့ ပစ္စည်း ကို အ ပြင် မှာ ပါ လိုက် ရှာ နေ ရော']\n"
          ]
        }
      ]
    },
    {
      "cell_type": "code",
      "source": [],
      "metadata": {
        "id": "4kdcLePhE2JP"
      },
      "execution_count": null,
      "outputs": []
    }
  ]
}